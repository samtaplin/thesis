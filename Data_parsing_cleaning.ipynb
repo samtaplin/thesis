{
 "cells": [
  {
   "cell_type": "markdown",
   "metadata": {},
   "source": [
    "I first import pandas and load the NELDA dataset into memory as a table"
   ]
  },
  {
   "cell_type": "code",
   "execution_count": 150,
   "metadata": {},
   "outputs": [],
   "source": [
    "import pandas as pd\n",
    "import numpy as np"
   ]
  },
  {
   "cell_type": "code",
   "execution_count": 151,
   "metadata": {},
   "outputs": [],
   "source": [
    "nelda = pd.read_csv('NELDA2.csv')"
   ]
  },
  {
   "cell_type": "markdown",
   "metadata": {},
   "source": [
    "Numberize simplifies NELDA columns by representing 'yes' datapoints as 1 and all other datapoints ('no' and 'unclear') as 0. Booltonum replaces 'True' values with 1 and 'False' values with 0."
   ]
  },
  {
   "cell_type": "code",
   "execution_count": 152,
   "metadata": {},
   "outputs": [],
   "source": [
    "def numberize(b):\n",
    "    if b == 'yes':\n",
    "        return 1\n",
    "    else:\n",
    "        return 0\n",
    "    \n",
    "def booltonum(b):\n",
    "    if b:\n",
    "        return 1\n",
    "    else:\n",
    "        return 0"
   ]
  },
  {
   "cell_type": "markdown",
   "metadata": {},
   "source": [
    "I read in the polity-V dataset and shorten it to only the two variables I'm interested in."
   ]
  },
  {
   "cell_type": "code",
   "execution_count": 153,
   "metadata": {},
   "outputs": [],
   "source": [
    "p5 = pd.read_excel('p5v2018.xls')"
   ]
  },
  {
   "cell_type": "code",
   "execution_count": 154,
   "metadata": {},
   "outputs": [],
   "source": [
    "p5short = p5[['ccode', 'country', 'year', 'exconst', 'polcomp']]"
   ]
  },
  {
   "cell_type": "markdown",
   "metadata": {},
   "source": [
    "If data on executive-contraints does not exist for a particular year because Polity-V recorded it as a transitional period, I replace it with an average of the four previous years before the transition. If there aren't four year, I take the average of however many years there are. If there are no years before the transitional period, I leave that marker in place."
   ]
  },
  {
   "cell_type": "code",
   "execution_count": 155,
   "metadata": {},
   "outputs": [
    {
     "name": "stderr",
     "output_type": "stream",
     "text": [
      "C:\\Users\\sctap\\Anaconda3\\lib\\site-packages\\ipykernel_launcher.py:13: SettingWithCopyWarning: \n",
      "A value is trying to be set on a copy of a slice from a DataFrame.\n",
      "Try using .loc[row_indexer,col_indexer] = value instead\n",
      "\n",
      "See the caveats in the documentation: https://pandas.pydata.org/pandas-docs/stable/user_guide/indexing.html#returning-a-view-versus-a-copy\n",
      "  del sys.path[0]\n"
     ]
    }
   ],
   "source": [
    "def adjexconst(row):\n",
    "    if row['exconst'] == -88:\n",
    "        previousyears = p5short[(p5short['year'] < row['year']) & (p5short['exconst'] != -88) & (p5short['ccode'] == row['ccode'])]\n",
    "        numprevyears = previousyears.shape[0]\n",
    "        if numprevyears >= 4:\n",
    "            return previousyears.tail(4)['exconst'].mean()\n",
    "        elif numprevyears > 0:\n",
    "            return previousyears.tail(numprevyears)['exconst'].mean()\n",
    "        else:\n",
    "            return -88\n",
    "    else:\n",
    "        return row['exconst']\n",
    "p5short['adjexconst'] = p5short.apply(adjexconst, axis=1)"
   ]
  },
  {
   "cell_type": "markdown",
   "metadata": {},
   "source": [
    "I lag the year by one. However, for elections that happened the year a country was founded, I don't lag the year and merge them seperately."
   ]
  },
  {
   "cell_type": "code",
   "execution_count": 156,
   "metadata": {},
   "outputs": [
    {
     "name": "stderr",
     "output_type": "stream",
     "text": [
      "C:\\Users\\sctap\\Anaconda3\\lib\\site-packages\\ipykernel_launcher.py:1: SettingWithCopyWarning: \n",
      "A value is trying to be set on a copy of a slice from a DataFrame.\n",
      "Try using .loc[row_indexer,col_indexer] = value instead\n",
      "\n",
      "See the caveats in the documentation: https://pandas.pydata.org/pandas-docs/stable/user_guide/indexing.html#returning-a-view-versus-a-copy\n",
      "  \"\"\"Entry point for launching an IPython kernel.\n"
     ]
    }
   ],
   "source": [
    "p5short['year'] = p5short['year'] + 1"
   ]
  },
  {
   "cell_type": "code",
   "execution_count": 157,
   "metadata": {},
   "outputs": [
    {
     "name": "stderr",
     "output_type": "stream",
     "text": [
      "C:\\Users\\sctap\\Anaconda3\\lib\\site-packages\\ipykernel_launcher.py:1: SettingWithCopyWarning: \n",
      "A value is trying to be set on a copy of a slice from a DataFrame.\n",
      "Try using .loc[row_indexer,col_indexer] = value instead\n",
      "\n",
      "See the caveats in the documentation: https://pandas.pydata.org/pandas-docs/stable/user_guide/indexing.html#returning-a-view-versus-a-copy\n",
      "  \"\"\"Entry point for launching an IPython kernel.\n"
     ]
    }
   ],
   "source": [
    "p5short['unlagyear'] = p5short['year'] - 1"
   ]
  },
  {
   "cell_type": "code",
   "execution_count": 158,
   "metadata": {},
   "outputs": [],
   "source": [
    "neldawp5 = pd.merge(nelda, p5short, how='left', left_on=['ccode', 'year'], right_on=['ccode', 'year'])"
   ]
  },
  {
   "cell_type": "markdown",
   "metadata": {},
   "source": [
    "I list the countries I couldn't match by using the year and country code or whose names differ in each of the datasets (possibly incorrect matches). Most are small island states that don't exist in Polity V. Others are just differences in naming convention. A few however present issues."
   ]
  },
  {
   "cell_type": "code",
   "execution_count": 159,
   "metadata": {},
   "outputs": [
    {
     "data": {
      "text/html": [
       "<div>\n",
       "<style scoped>\n",
       "    .dataframe tbody tr th:only-of-type {\n",
       "        vertical-align: middle;\n",
       "    }\n",
       "\n",
       "    .dataframe tbody tr th {\n",
       "        vertical-align: top;\n",
       "    }\n",
       "\n",
       "    .dataframe thead th {\n",
       "        text-align: right;\n",
       "    }\n",
       "</style>\n",
       "<table border=\"1\" class=\"dataframe\">\n",
       "  <thead>\n",
       "    <tr style=\"text-align: right;\">\n",
       "      <th></th>\n",
       "      <th>country_x</th>\n",
       "      <th>country_y</th>\n",
       "    </tr>\n",
       "  </thead>\n",
       "  <tbody>\n",
       "    <tr>\n",
       "      <th>0</th>\n",
       "      <td>United States of America</td>\n",
       "      <td>United States</td>\n",
       "    </tr>\n",
       "    <tr>\n",
       "      <th>75</th>\n",
       "      <td>Bahamas</td>\n",
       "      <td>NaN</td>\n",
       "    </tr>\n",
       "    <tr>\n",
       "      <th>83</th>\n",
       "      <td>Iceland</td>\n",
       "      <td>NaN</td>\n",
       "    </tr>\n",
       "    <tr>\n",
       "      <th>193</th>\n",
       "      <td>Barbados</td>\n",
       "      <td>NaN</td>\n",
       "    </tr>\n",
       "    <tr>\n",
       "      <th>203</th>\n",
       "      <td>Dominica</td>\n",
       "      <td>NaN</td>\n",
       "    </tr>\n",
       "    <tr>\n",
       "      <th>...</th>\n",
       "      <td>...</td>\n",
       "      <td>...</td>\n",
       "    </tr>\n",
       "    <tr>\n",
       "      <th>3689</th>\n",
       "      <td>Tuvalu</td>\n",
       "      <td>NaN</td>\n",
       "    </tr>\n",
       "    <tr>\n",
       "      <th>3699</th>\n",
       "      <td>Marshall Islands</td>\n",
       "      <td>NaN</td>\n",
       "    </tr>\n",
       "    <tr>\n",
       "      <th>3707</th>\n",
       "      <td>Palau</td>\n",
       "      <td>NaN</td>\n",
       "    </tr>\n",
       "    <tr>\n",
       "      <th>3720</th>\n",
       "      <td>Federated States of Micronesia</td>\n",
       "      <td>NaN</td>\n",
       "    </tr>\n",
       "    <tr>\n",
       "      <th>3735</th>\n",
       "      <td>Samoa/Western Samoa</td>\n",
       "      <td>NaN</td>\n",
       "    </tr>\n",
       "  </tbody>\n",
       "</table>\n",
       "<p>82 rows × 2 columns</p>\n",
       "</div>"
      ],
      "text/plain": [
       "                           country_x      country_y\n",
       "0           United States of America  United States\n",
       "75                           Bahamas            NaN\n",
       "83                           Iceland            NaN\n",
       "193                         Barbados            NaN\n",
       "203                         Dominica            NaN\n",
       "...                              ...            ...\n",
       "3689                          Tuvalu            NaN\n",
       "3699                Marshall Islands            NaN\n",
       "3707                           Palau            NaN\n",
       "3720  Federated States of Micronesia            NaN\n",
       "3735             Samoa/Western Samoa            NaN\n",
       "\n",
       "[82 rows x 2 columns]"
      ]
     },
     "execution_count": 159,
     "metadata": {},
     "output_type": "execute_result"
    }
   ],
   "source": [
    "neldawp5[neldawp5['country_x'] != neldawp5['country_y']][['country_x', 'country_y']].drop_duplicates()"
   ]
  },
  {
   "cell_type": "markdown",
   "metadata": {},
   "source": [
    "For instance, PolityV and Nelda use different country codes for post-unification Germany."
   ]
  },
  {
   "cell_type": "code",
   "execution_count": 160,
   "metadata": {},
   "outputs": [
    {
     "data": {
      "text/html": [
       "<div>\n",
       "<style scoped>\n",
       "    .dataframe tbody tr th:only-of-type {\n",
       "        vertical-align: middle;\n",
       "    }\n",
       "\n",
       "    .dataframe tbody tr th {\n",
       "        vertical-align: top;\n",
       "    }\n",
       "\n",
       "    .dataframe thead th {\n",
       "        text-align: right;\n",
       "    }\n",
       "</style>\n",
       "<table border=\"1\" class=\"dataframe\">\n",
       "  <thead>\n",
       "    <tr style=\"text-align: right;\">\n",
       "      <th></th>\n",
       "      <th>country_x</th>\n",
       "      <th>country_y</th>\n",
       "    </tr>\n",
       "  </thead>\n",
       "  <tbody>\n",
       "    <tr>\n",
       "      <th>1207</th>\n",
       "      <td>German Federal Republic</td>\n",
       "      <td>NaN</td>\n",
       "    </tr>\n",
       "    <tr>\n",
       "      <th>1208</th>\n",
       "      <td>German Federal Republic</td>\n",
       "      <td>NaN</td>\n",
       "    </tr>\n",
       "    <tr>\n",
       "      <th>1209</th>\n",
       "      <td>German Federal Republic</td>\n",
       "      <td>NaN</td>\n",
       "    </tr>\n",
       "    <tr>\n",
       "      <th>1210</th>\n",
       "      <td>German Federal Republic</td>\n",
       "      <td>NaN</td>\n",
       "    </tr>\n",
       "    <tr>\n",
       "      <th>1211</th>\n",
       "      <td>German Federal Republic</td>\n",
       "      <td>NaN</td>\n",
       "    </tr>\n",
       "    <tr>\n",
       "      <th>1212</th>\n",
       "      <td>German Federal Republic</td>\n",
       "      <td>NaN</td>\n",
       "    </tr>\n",
       "  </tbody>\n",
       "</table>\n",
       "</div>"
      ],
      "text/plain": [
       "                    country_x country_y\n",
       "1207  German Federal Republic       NaN\n",
       "1208  German Federal Republic       NaN\n",
       "1209  German Federal Republic       NaN\n",
       "1210  German Federal Republic       NaN\n",
       "1211  German Federal Republic       NaN\n",
       "1212  German Federal Republic       NaN"
      ]
     },
     "execution_count": 160,
     "metadata": {},
     "output_type": "execute_result"
    }
   ],
   "source": [
    "neldawp5[(neldawp5['country_x'] != neldawp5['country_y']) & (neldawp5['ccode'] == 260) & (neldawp5['year'] > 1990)][['country_x', 'country_y']]"
   ]
  },
  {
   "cell_type": "markdown",
   "metadata": {},
   "source": [
    "I manually input the correct PolityV polcomp and exconst values (which are constant over the timeperiod) into my table."
   ]
  },
  {
   "cell_type": "code",
   "execution_count": 161,
   "metadata": {},
   "outputs": [],
   "source": [
    "def fixgermanyissue(row):\n",
    "    if row['ccode'] == 260 and row['year'] >= 1994:\n",
    "        return ['Germany', float(8), float(10)]\n",
    "    else:\n",
    "        return [row['country_y'], row['exconst'], row['polcomp']]\n",
    "temp = neldawp5.apply(fixgermanyissue, axis=1, result_type='expand')\n",
    "neldawp5['country_y'] = temp[0]\n",
    "neldawp5['exconst'] = temp[1]\n",
    "neldawp5['polcomp'] = temp[2]"
   ]
  },
  {
   "cell_type": "markdown",
   "metadata": {},
   "source": [
    "Similarly, Nelda and PolityV use different country-codes for Serbia following the dissolution of Yugoslavia and the break-up of Serbia and Montenegro. I manually move the appropriate values from one table to another."
   ]
  },
  {
   "cell_type": "code",
   "execution_count": 162,
   "metadata": {},
   "outputs": [
    {
     "data": {
      "text/html": [
       "<div>\n",
       "<style scoped>\n",
       "    .dataframe tbody tr th:only-of-type {\n",
       "        vertical-align: middle;\n",
       "    }\n",
       "\n",
       "    .dataframe tbody tr th {\n",
       "        vertical-align: top;\n",
       "    }\n",
       "\n",
       "    .dataframe thead th {\n",
       "        text-align: right;\n",
       "    }\n",
       "</style>\n",
       "<table border=\"1\" class=\"dataframe\">\n",
       "  <thead>\n",
       "    <tr style=\"text-align: right;\">\n",
       "      <th></th>\n",
       "      <th>country_x</th>\n",
       "      <th>country_y</th>\n",
       "    </tr>\n",
       "  </thead>\n",
       "  <tbody>\n",
       "    <tr>\n",
       "      <th>1484</th>\n",
       "      <td>Serbia (Yugoslavia)</td>\n",
       "      <td>NaN</td>\n",
       "    </tr>\n",
       "    <tr>\n",
       "      <th>1485</th>\n",
       "      <td>Serbia (Yugoslavia)</td>\n",
       "      <td>NaN</td>\n",
       "    </tr>\n",
       "    <tr>\n",
       "      <th>1486</th>\n",
       "      <td>Serbia (Yugoslavia)</td>\n",
       "      <td>NaN</td>\n",
       "    </tr>\n",
       "    <tr>\n",
       "      <th>1487</th>\n",
       "      <td>Serbia (Yugoslavia)</td>\n",
       "      <td>NaN</td>\n",
       "    </tr>\n",
       "    <tr>\n",
       "      <th>1488</th>\n",
       "      <td>Serbia (Yugoslavia)</td>\n",
       "      <td>NaN</td>\n",
       "    </tr>\n",
       "    <tr>\n",
       "      <th>1489</th>\n",
       "      <td>Serbia (Yugoslavia)</td>\n",
       "      <td>NaN</td>\n",
       "    </tr>\n",
       "    <tr>\n",
       "      <th>1490</th>\n",
       "      <td>Serbia (Yugoslavia)</td>\n",
       "      <td>NaN</td>\n",
       "    </tr>\n",
       "    <tr>\n",
       "      <th>1491</th>\n",
       "      <td>Serbia (Yugoslavia)</td>\n",
       "      <td>NaN</td>\n",
       "    </tr>\n",
       "    <tr>\n",
       "      <th>1492</th>\n",
       "      <td>Serbia (Yugoslavia)</td>\n",
       "      <td>NaN</td>\n",
       "    </tr>\n",
       "    <tr>\n",
       "      <th>1493</th>\n",
       "      <td>Serbia (Yugoslavia)</td>\n",
       "      <td>NaN</td>\n",
       "    </tr>\n",
       "  </tbody>\n",
       "</table>\n",
       "</div>"
      ],
      "text/plain": [
       "                country_x country_y\n",
       "1484  Serbia (Yugoslavia)       NaN\n",
       "1485  Serbia (Yugoslavia)       NaN\n",
       "1486  Serbia (Yugoslavia)       NaN\n",
       "1487  Serbia (Yugoslavia)       NaN\n",
       "1488  Serbia (Yugoslavia)       NaN\n",
       "1489  Serbia (Yugoslavia)       NaN\n",
       "1490  Serbia (Yugoslavia)       NaN\n",
       "1491  Serbia (Yugoslavia)       NaN\n",
       "1492  Serbia (Yugoslavia)       NaN\n",
       "1493  Serbia (Yugoslavia)       NaN"
      ]
     },
     "execution_count": 162,
     "metadata": {},
     "output_type": "execute_result"
    }
   ],
   "source": [
    "neldawp5[(neldawp5['country_x'] != neldawp5['country_y']) & (neldawp5['ccode'] == 345) & (neldawp5['year'] > 1992)][['country_x', 'country_y']]"
   ]
  },
  {
   "cell_type": "code",
   "execution_count": 163,
   "metadata": {},
   "outputs": [
    {
     "data": {
      "text/html": [
       "<div>\n",
       "<style scoped>\n",
       "    .dataframe tbody tr th:only-of-type {\n",
       "        vertical-align: middle;\n",
       "    }\n",
       "\n",
       "    .dataframe tbody tr th {\n",
       "        vertical-align: top;\n",
       "    }\n",
       "\n",
       "    .dataframe thead th {\n",
       "        text-align: right;\n",
       "    }\n",
       "</style>\n",
       "<table border=\"1\" class=\"dataframe\">\n",
       "  <thead>\n",
       "    <tr style=\"text-align: right;\">\n",
       "      <th></th>\n",
       "      <th>country_x</th>\n",
       "      <th>country_y</th>\n",
       "    </tr>\n",
       "  </thead>\n",
       "  <tbody>\n",
       "    <tr>\n",
       "      <th>1427</th>\n",
       "      <td>Serbia</td>\n",
       "      <td>NaN</td>\n",
       "    </tr>\n",
       "    <tr>\n",
       "      <th>1428</th>\n",
       "      <td>Serbia</td>\n",
       "      <td>NaN</td>\n",
       "    </tr>\n",
       "    <tr>\n",
       "      <th>1429</th>\n",
       "      <td>Serbia</td>\n",
       "      <td>NaN</td>\n",
       "    </tr>\n",
       "    <tr>\n",
       "      <th>1430</th>\n",
       "      <td>Serbia</td>\n",
       "      <td>NaN</td>\n",
       "    </tr>\n",
       "    <tr>\n",
       "      <th>1431</th>\n",
       "      <td>Serbia</td>\n",
       "      <td>NaN</td>\n",
       "    </tr>\n",
       "    <tr>\n",
       "      <th>1432</th>\n",
       "      <td>Serbia</td>\n",
       "      <td>NaN</td>\n",
       "    </tr>\n",
       "    <tr>\n",
       "      <th>1433</th>\n",
       "      <td>Serbia</td>\n",
       "      <td>NaN</td>\n",
       "    </tr>\n",
       "    <tr>\n",
       "      <th>1434</th>\n",
       "      <td>Serbia</td>\n",
       "      <td>NaN</td>\n",
       "    </tr>\n",
       "  </tbody>\n",
       "</table>\n",
       "</div>"
      ],
      "text/plain": [
       "     country_x country_y\n",
       "1427    Serbia       NaN\n",
       "1428    Serbia       NaN\n",
       "1429    Serbia       NaN\n",
       "1430    Serbia       NaN\n",
       "1431    Serbia       NaN\n",
       "1432    Serbia       NaN\n",
       "1433    Serbia       NaN\n",
       "1434    Serbia       NaN"
      ]
     },
     "execution_count": 163,
     "metadata": {},
     "output_type": "execute_result"
    }
   ],
   "source": [
    "neldawp5[(neldawp5['country_x'] != neldawp5['country_y']) & (neldawp5['ccode'] == 340) & (neldawp5['year'] >= 2007)][['country_x', 'country_y']]"
   ]
  },
  {
   "cell_type": "code",
   "execution_count": 164,
   "metadata": {},
   "outputs": [],
   "source": [
    "temp2 = p5short[p5short['ccode'] == 347]\n",
    "def fixserbia(row):\n",
    "    if row['ccode'] == 345 and row['year'] >= 1992 and row['year'] <= 2004:\n",
    "        return np.array(temp2[(temp2['year'] == row['year'])][['country', 'exconst', 'polcomp']].iloc[0])\n",
    "    else:\n",
    "        return [row['country_y'], row['exconst'], row['polcomp']]\n",
    "temp3 = neldawp5.apply(fixserbia, axis=1, result_type='expand')\n",
    "neldawp5['country_y'] = temp3[0]\n",
    "neldawp5['exconst'] = temp3[1]\n",
    "neldawp5['polcomp'] = temp3[2]"
   ]
  },
  {
   "cell_type": "code",
   "execution_count": 165,
   "metadata": {},
   "outputs": [],
   "source": [
    "temp4 = p5short[p5short['ccode'] == 342]\n",
    "def fixnewserbia(row):\n",
    "    if row['ccode'] == 340 and row['year'] >= 2007:\n",
    "        return np.array(temp4[(temp4['year'] == row['year'])][['country', 'exconst', 'polcomp']].iloc[0])\n",
    "    else:\n",
    "        return [row['country_y'], row['exconst'], row['polcomp']]\n",
    "temp5 = neldawp5.apply(fixnewserbia, axis=1, result_type='expand')\n",
    "neldawp5['country_y'] = temp5[0]\n",
    "neldawp5['exconst'] = temp5[1]\n",
    "neldawp5['polcomp'] = temp5[2]"
   ]
  },
  {
   "cell_type": "markdown",
   "metadata": {},
   "source": [
    "In the same manner as the examples above, I also manually match mismatched country-codes for Kosovo (2010-Present), the USSR (1946-1991), Ethiopia (1994-), Sudan (2012-), Yemen (1993-), Pakistan (1970), Vietnam (1981-), Montenegro (2008-), Kuwait (1961), Egypt (1950)."
   ]
  },
  {
   "cell_type": "code",
   "execution_count": 166,
   "metadata": {},
   "outputs": [],
   "source": [
    "kosovo = p5short[p5short['ccode'] == 341]\n",
    "ussr = p5short[p5short['ccode'] == 364]\n",
    "ethiopia = p5short[p5short['ccode'] == 529]\n",
    "nsudan = p5short[p5short['ccode'] == 626]\n",
    "yemen = p5short[p5short['ccode'] == 679]\n",
    "earlypak = p5short[p5short['ccode'] == 769]\n",
    "viet = p5short[p5short['ccode'] == 818]\n",
    "mont = p5short[p5short['ccode'] == 348]\n",
    "def fixkosrus(row):\n",
    "    if row['ccode'] == 347 and row['year'] >= 2010:\n",
    "        return np.array(kosovo[(kosovo['year'] == row['year'])][['country', 'exconst', 'polcomp']].iloc[0])\n",
    "    elif row['ccode'] == 365 and row['year'] >= 1946 and row['year'] <= 1991:\n",
    "        return np.array(ussr[(ussr['year'] == row['year'])][['country', 'exconst', 'polcomp']].iloc[0])\n",
    "    elif row['ccode'] == 530 and row['year'] >= 1994:\n",
    "        return np.array(ethiopia[(ethiopia['year'] == row['year'])][['country', 'exconst', 'polcomp']].iloc[0])\n",
    "    elif row['ccode'] == 625 and row['year'] >= 2012:\n",
    "        return np.array(nsudan[(nsudan['year'] == row['year'])][['country', 'exconst', 'polcomp']].iloc[0])\n",
    "    elif row['ccode'] == 651 and row['year'] == 1950:\n",
    "        return ['Egypt', float(1), float(6)]\n",
    "    elif row['ccode'] == 678 and row['year'] >= 1993:\n",
    "        return np.array(yemen[(yemen['year'] == row['year'])][['country', 'exconst', 'polcomp']].iloc[0])\n",
    "    elif row['ccode'] == 690 and row['year'] == 1961:\n",
    "        return ['Kuwait', float(2), float(1)]\n",
    "    elif row['ccode'] == 770 and row['year'] == 1970:\n",
    "        return np.array(earlypak[(earlypak['year'] == row['year'])][['country', 'exconst', 'polcomp']].iloc[0])\n",
    "    elif row['ccode'] == 816 and row['year'] >= 1981:\n",
    "        return np.array(viet[(viet['year'] == row['year'])][['country', 'exconst', 'polcomp']].iloc[0])\n",
    "    elif row['ccode'] == 341 and row['year'] >= 2008:\n",
    "        return np.array(mont[(mont['year'] == row['year'])][['country', 'exconst', 'polcomp']].iloc[0])\n",
    "    else:\n",
    "        return [row['country_y'], row['exconst'], row['polcomp']]\n",
    "temp7 = neldawp5.apply(fixkosrus, axis=1, result_type='expand')\n",
    "neldawp5['country_y'] = temp7[0]\n",
    "neldawp5['exconst'] = temp7[1]\n",
    "neldawp5['polcomp'] = temp7[2]"
   ]
  },
  {
   "cell_type": "markdown",
   "metadata": {},
   "source": [
    "Next, I merge in elections that happened in the year a country was founded. A special case of elections that were missed when I lagged the Polity dataset by a year."
   ]
  },
  {
   "cell_type": "code",
   "execution_count": 167,
   "metadata": {},
   "outputs": [],
   "source": [
    "catchfoundings = pd.merge(neldawp5[neldawp5.country_y.isna()], p5short, how='left', left_on=['ccode', 'year'], right_on=['ccode', 'unlagyear'])"
   ]
  },
  {
   "cell_type": "code",
   "execution_count": 168,
   "metadata": {},
   "outputs": [],
   "source": [
    "catchfoundings.drop(['country_y', 'exconst_x', 'polcomp_x', 'year_y', 'adjexconst_x'], axis=1, inplace=True)\n",
    "catchfoundings.rename({'country': 'country_y', 'exconst_y': 'exconst', 'polcomp_y': 'polcomp', 'adjexconst_y': 'adjexconst'}, axis=1, inplace=True)"
   ]
  },
  {
   "cell_type": "code",
   "execution_count": 169,
   "metadata": {},
   "outputs": [],
   "source": [
    "catchfoundings.rename({\"year_x\": 'year'}, axis=1, inplace=True)\n",
    "catchfoundings.drop(['unlagyear_y', 'unlagyear_x'], axis=1, inplace=True)"
   ]
  },
  {
   "cell_type": "code",
   "execution_count": 170,
   "metadata": {},
   "outputs": [],
   "source": [
    "neldawp5.drop(['unlagyear'], axis=1, inplace=True)"
   ]
  },
  {
   "cell_type": "code",
   "execution_count": 171,
   "metadata": {},
   "outputs": [],
   "source": [
    "catchfoundings = catchfoundings[~catchfoundings['country_y'].isna()]"
   ]
  },
  {
   "cell_type": "code",
   "execution_count": 172,
   "metadata": {},
   "outputs": [],
   "source": [
    "neldawp5 = neldawp5[~neldawp5.country_y.isna()]"
   ]
  },
  {
   "cell_type": "code",
   "execution_count": 173,
   "metadata": {},
   "outputs": [],
   "source": [
    "frames = [neldawp5, catchfoundings]\n",
    "neldawp5 = pd.concat(frames)"
   ]
  },
  {
   "cell_type": "markdown",
   "metadata": {},
   "source": [
    "All the remaining cases of differing country names are now simply differences in naming convention."
   ]
  },
  {
   "cell_type": "code",
   "execution_count": 174,
   "metadata": {},
   "outputs": [
    {
     "data": {
      "text/html": [
       "<div>\n",
       "<style scoped>\n",
       "    .dataframe tbody tr th:only-of-type {\n",
       "        vertical-align: middle;\n",
       "    }\n",
       "\n",
       "    .dataframe tbody tr th {\n",
       "        vertical-align: top;\n",
       "    }\n",
       "\n",
       "    .dataframe thead th {\n",
       "        text-align: right;\n",
       "    }\n",
       "</style>\n",
       "<table border=\"1\" class=\"dataframe\">\n",
       "  <thead>\n",
       "    <tr style=\"text-align: right;\">\n",
       "      <th></th>\n",
       "      <th>country_x</th>\n",
       "      <th>country_y</th>\n",
       "    </tr>\n",
       "  </thead>\n",
       "  <tbody>\n",
       "    <tr>\n",
       "      <th>0</th>\n",
       "      <td>United States of America</td>\n",
       "      <td>United States</td>\n",
       "    </tr>\n",
       "    <tr>\n",
       "      <th>603</th>\n",
       "      <td>Surinam</td>\n",
       "      <td>Suriname</td>\n",
       "    </tr>\n",
       "    <tr>\n",
       "      <th>1196</th>\n",
       "      <td>German Federal Republic</td>\n",
       "      <td>Germany West</td>\n",
       "    </tr>\n",
       "    <tr>\n",
       "      <th>1207</th>\n",
       "      <td>German Federal Republic</td>\n",
       "      <td>Germany</td>\n",
       "    </tr>\n",
       "    <tr>\n",
       "      <th>1213</th>\n",
       "      <td>East Germany</td>\n",
       "      <td>Germany East</td>\n",
       "    </tr>\n",
       "    <tr>\n",
       "      <th>1346</th>\n",
       "      <td>Slovakia</td>\n",
       "      <td>Slovak Republic</td>\n",
       "    </tr>\n",
       "    <tr>\n",
       "      <th>1439</th>\n",
       "      <td>Macedonia (FYROM)</td>\n",
       "      <td>Macedonia</td>\n",
       "    </tr>\n",
       "    <tr>\n",
       "      <th>1477</th>\n",
       "      <td>Serbia (Yugoslavia)</td>\n",
       "      <td>Yugoslavia</td>\n",
       "    </tr>\n",
       "    <tr>\n",
       "      <th>1492</th>\n",
       "      <td>Serbia (Yugoslavia)</td>\n",
       "      <td>Serbia and Montenegro</td>\n",
       "    </tr>\n",
       "    <tr>\n",
       "      <th>1494</th>\n",
       "      <td>Bosnia-Herzegovina</td>\n",
       "      <td>Bosnia</td>\n",
       "    </tr>\n",
       "    <tr>\n",
       "      <th>1644</th>\n",
       "      <td>Russia (Soviet Union)</td>\n",
       "      <td>USSR</td>\n",
       "    </tr>\n",
       "    <tr>\n",
       "      <th>1655</th>\n",
       "      <td>Russia (Soviet Union)</td>\n",
       "      <td>Russia</td>\n",
       "    </tr>\n",
       "    <tr>\n",
       "      <th>2119</th>\n",
       "      <td>Cote d'Ivoire</td>\n",
       "      <td>Cote D'Ivoire</td>\n",
       "    </tr>\n",
       "    <tr>\n",
       "      <th>2140</th>\n",
       "      <td>Cote d'Ivoire</td>\n",
       "      <td>Ivory Coast</td>\n",
       "    </tr>\n",
       "    <tr>\n",
       "      <th>2361</th>\n",
       "      <td>Congo</td>\n",
       "      <td>Congo-Brazzaville</td>\n",
       "    </tr>\n",
       "    <tr>\n",
       "      <th>2377</th>\n",
       "      <td>Congo</td>\n",
       "      <td>Congo Brazzaville</td>\n",
       "    </tr>\n",
       "    <tr>\n",
       "      <th>2382</th>\n",
       "      <td>Democratic Republic of Congo</td>\n",
       "      <td>Congo Kinshasa</td>\n",
       "    </tr>\n",
       "    <tr>\n",
       "      <th>2796</th>\n",
       "      <td>Sudan</td>\n",
       "      <td>Sudan-North</td>\n",
       "    </tr>\n",
       "    <tr>\n",
       "      <th>3007</th>\n",
       "      <td>Yemen</td>\n",
       "      <td>Yemen North</td>\n",
       "    </tr>\n",
       "    <tr>\n",
       "      <th>3015</th>\n",
       "      <td>South Yemen</td>\n",
       "      <td>Yemen South</td>\n",
       "    </tr>\n",
       "    <tr>\n",
       "      <th>3085</th>\n",
       "      <td>Kyrgyz Republic</td>\n",
       "      <td>Kyrgyzstan</td>\n",
       "    </tr>\n",
       "    <tr>\n",
       "      <th>3167</th>\n",
       "      <td>North Korea</td>\n",
       "      <td>Korea North</td>\n",
       "    </tr>\n",
       "    <tr>\n",
       "      <th>3179</th>\n",
       "      <td>South Korea</td>\n",
       "      <td>Korea South</td>\n",
       "    </tr>\n",
       "    <tr>\n",
       "      <th>3418</th>\n",
       "      <td>Democratic Republic of Vietnam</td>\n",
       "      <td>Vietnam North</td>\n",
       "    </tr>\n",
       "    <tr>\n",
       "      <th>3423</th>\n",
       "      <td>Democratic Republic of Vietnam</td>\n",
       "      <td>Vietnam</td>\n",
       "    </tr>\n",
       "    <tr>\n",
       "      <th>3432</th>\n",
       "      <td>Republic of Vietnam</td>\n",
       "      <td>South Vietnam</td>\n",
       "    </tr>\n",
       "    <tr>\n",
       "      <th>3526</th>\n",
       "      <td>East Timor</td>\n",
       "      <td>Timor Leste</td>\n",
       "    </tr>\n",
       "  </tbody>\n",
       "</table>\n",
       "</div>"
      ],
      "text/plain": [
       "                           country_x              country_y\n",
       "0           United States of America          United States\n",
       "603                          Surinam               Suriname\n",
       "1196         German Federal Republic           Germany West\n",
       "1207         German Federal Republic                Germany\n",
       "1213                    East Germany           Germany East\n",
       "1346                        Slovakia        Slovak Republic\n",
       "1439               Macedonia (FYROM)              Macedonia\n",
       "1477             Serbia (Yugoslavia)             Yugoslavia\n",
       "1492             Serbia (Yugoslavia)  Serbia and Montenegro\n",
       "1494              Bosnia-Herzegovina                 Bosnia\n",
       "1644           Russia (Soviet Union)                   USSR\n",
       "1655           Russia (Soviet Union)                 Russia\n",
       "2119                   Cote d'Ivoire          Cote D'Ivoire\n",
       "2140                   Cote d'Ivoire            Ivory Coast\n",
       "2361                           Congo      Congo-Brazzaville\n",
       "2377                           Congo      Congo Brazzaville\n",
       "2382    Democratic Republic of Congo         Congo Kinshasa\n",
       "2796                           Sudan            Sudan-North\n",
       "3007                           Yemen            Yemen North\n",
       "3015                     South Yemen            Yemen South\n",
       "3085                 Kyrgyz Republic             Kyrgyzstan\n",
       "3167                     North Korea            Korea North\n",
       "3179                     South Korea            Korea South\n",
       "3418  Democratic Republic of Vietnam          Vietnam North\n",
       "3423  Democratic Republic of Vietnam                Vietnam\n",
       "3432             Republic of Vietnam          South Vietnam\n",
       "3526                      East Timor            Timor Leste"
      ]
     },
     "execution_count": 174,
     "metadata": {},
     "output_type": "execute_result"
    }
   ],
   "source": [
    "neldawp5[neldawp5['country_x'] != neldawp5['country_y']][['country_x', 'country_y']].drop_duplicates()"
   ]
  },
  {
   "cell_type": "markdown",
   "metadata": {},
   "source": [
    "Finally, some founding elections are still missing adjusted execultive constraints, so I manually enter that data for Ethiopia's 1995 election, Pakistan's 1970 and Yemen's 1993 election. (Data doesn't match because of changes in country-code)"
   ]
  },
  {
   "cell_type": "code",
   "execution_count": 176,
   "metadata": {},
   "outputs": [],
   "source": [
    "def latefix(row):\n",
    "    if np.isnan(row['adjexconst']):\n",
    "        if row['exconst'] == -88 and row['country_x'] == \"Ethiopia\":\n",
    "            return 2.0\n",
    "        elif row['exconst'] == -88 and (row['country_x'] == \"Yemen\" or row['country_x'] == \"Pakistan\"):\n",
    "            return 3.0\n",
    "        else:\n",
    "            return row['exconst']\n",
    "    else:\n",
    "        return row['adjexconst']\n",
    "X['adjexconst'] = X.apply(latefix, axis=1)"
   ]
  },
  {
   "cell_type": "markdown",
   "metadata": {},
   "source": [
    "I create variables for the special Polity V cases of anarchy, transitions and occupation. I drop these elections later, except for transitional elections with a pre-transition executive constraint average. I drop transitional elections where there was no baseline (pre-transitional) value for executive constraints."
   ]
  },
  {
   "cell_type": "code",
   "execution_count": 177,
   "metadata": {},
   "outputs": [],
   "source": [
    "neldawp5['anarchy'] = (neldawp5['polcomp'] == -77) & (neldawp5['exconst'] == -77)\n",
    "neldawp5['transition'] = (neldawp5['polcomp'] == -88) & (neldawp5['exconst'] == -88)\n",
    "neldawp5['occupation'] = (neldawp5['polcomp'] == -66) & (neldawp5['exconst'] == -66)\n",
    "neldawp5['droptransition'] = (neldawp5['exconst'] == -88) & (neldawp5['adjexconst'] < 0)"
   ]
  },
  {
   "cell_type": "markdown",
   "metadata": {},
   "source": [
    "Next I import the Archigos political leader dataset."
   ]
  },
  {
   "cell_type": "code",
   "execution_count": 178,
   "metadata": {},
   "outputs": [
    {
     "name": "stdout",
     "output_type": "stream",
     "text": [
      "{'encoding': 'Windows-1254', 'confidence': 0.6098425604005343, 'language': 'Turkish'}\n"
     ]
    }
   ],
   "source": [
    "import chardet\n",
    "\n",
    "with open('Archigos.dta', 'rb') as f:\n",
    "    print(chardet.detect(f.readline()))"
   ]
  },
  {
   "cell_type": "code",
   "execution_count": 179,
   "metadata": {},
   "outputs": [],
   "source": [
    "archigos = pd.read_csv('archy.csv', encoding='Windows-1254')"
   ]
  },
  {
   "cell_type": "markdown",
   "metadata": {},
   "source": [
    "For each leader, I find the start-year and end-year of their rule."
   ]
  },
  {
   "cell_type": "code",
   "execution_count": 180,
   "metadata": {},
   "outputs": [],
   "source": [
    "def getyear(adate):\n",
    "    return int(adate[:4])\n",
    "archigos['startyear'] = archigos['startdate'].apply(getyear)\n",
    "archigos['endyear'] = archigos['enddate'].apply(getyear)"
   ]
  },
  {
   "cell_type": "markdown",
   "metadata": {},
   "source": [
    "I lag the start-years and end-years by one, with important exceptions for countries with anually rotating heads-of-state (Switzerland) and a few countries in transition out of Nazi occupation in 1945 (Luxembourg, Austria, Hungary). For the president of Haiti in 2015, I lag the end-year by an extra year."
   ]
  },
  {
   "cell_type": "code",
   "execution_count": 181,
   "metadata": {},
   "outputs": [],
   "source": [
    "def yearsinpower(row):\n",
    "    if row['ccode'] == 41 and row['leader'] == 'Martelly':\n",
    "        return np.array(range(row['startyear'] + 1, row['endyear'] + 2))\n",
    "    elif row['ccode'] == 225 and row['startyear'] == row['endyear']:\n",
    "        return np.array(range(row['startyear'], row['endyear'] + 1))\n",
    "    elif (row['ccode'] == 212 or row['ccode'] == 305 or row['ccode'] == 310) and row['startyear'] == 1945:\n",
    "        return np.array(range(row['startyear'], row['endyear'] + 1))\n",
    "    return np.array(range(row['startyear'] + 1, row['endyear'] + 1))"
   ]
  },
  {
   "cell_type": "code",
   "execution_count": 182,
   "metadata": {},
   "outputs": [],
   "source": [
    "archigos['YearsinPower'] = archigos.apply(yearsinpower, axis=1)"
   ]
  },
  {
   "cell_type": "code",
   "execution_count": 183,
   "metadata": {},
   "outputs": [],
   "source": [
    "def unnest(df, tile, explode):\n",
    "    vals = df[explode].sum(1)\n",
    "    rs = [len(r) for r in vals]\n",
    "    a = np.repeat(df[tile].values, rs, axis=0)\n",
    "    b = np.concatenate(vals.values)\n",
    "    d = np.column_stack((a, b))\n",
    "    return pd.DataFrame(d, columns = tile +  ['_'.join(explode)])\n",
    "\n",
    "archunwound = unnest(archigos, ['ccode', 'yrborn', 'leader', 'startyear', 'endyear'], ['YearsinPower'])"
   ]
  },
  {
   "cell_type": "markdown",
   "metadata": {},
   "source": [
    "I unwind the data for each leader into country-year format."
   ]
  },
  {
   "cell_type": "code",
   "execution_count": 184,
   "metadata": {},
   "outputs": [],
   "source": [
    "archunwound = archunwound.rename({'YearsinPower': 'year'}, axis=1)"
   ]
  },
  {
   "cell_type": "markdown",
   "metadata": {},
   "source": [
    "Next, I calculate leader age and tenure by subtracting the year from their year of birth and the start of their rule respectively."
   ]
  },
  {
   "cell_type": "code",
   "execution_count": 185,
   "metadata": {},
   "outputs": [],
   "source": [
    "archunwound['age'] = archunwound['year'] - archunwound['yrborn']\n",
    "archunwound['tenure'] = archunwound['year'] - archunwound['startyear']"
   ]
  },
  {
   "cell_type": "markdown",
   "metadata": {},
   "source": [
    "I merge Archigos with NELDA."
   ]
  },
  {
   "cell_type": "code",
   "execution_count": 186,
   "metadata": {},
   "outputs": [],
   "source": [
    "archpvnelda = pd.merge(neldawp5, archunwound, how='left', left_on=['ccode', 'year'], right_on=['ccode', 'year'])"
   ]
  },
  {
   "cell_type": "code",
   "execution_count": 187,
   "metadata": {},
   "outputs": [],
   "source": [
    "archpvnelda.drop(['startyear', 'endyear'], axis=1, inplace=True)"
   ]
  },
  {
   "cell_type": "markdown",
   "metadata": {},
   "source": [
    "Next, I fix cases where the two datasets lacked matching country-codes. Montenegro (2008-), Russia(2000-), Yugoslavia(1945), Denmark (1945), Guinea-Bissau (2012)."
   ]
  },
  {
   "cell_type": "code",
   "execution_count": 188,
   "metadata": {},
   "outputs": [],
   "source": [
    "def fixmissingleaders(row):\n",
    "    if row['ccode'] == 341 and row['year'] >= 2008:\n",
    "        return np.array([1954, \"Vujanovic\", row['year'] - 1954, row['year'] - 2003])\n",
    "    elif row['ccode'] == 365 and row['year'] == 2000:\n",
    "        return np.array([1952, \"Putin\", row['year'] - 1952, row['year'] - 2000])\n",
    "    elif row['ccode'] == 345 and row['year'] == 1945:\n",
    "        return np.array([1892, \"Tito\", row['year'] - 1892, row['year'] - 1945])\n",
    "    elif row['ccode'] == 390 and row['year'] == 1945:\n",
    "        return np.array([1881, \"Buhl\", row['year'] - 1881, row['year'] - 1945])\n",
    "    elif row['ccode'] == 404 and row['year'] == 2012:\n",
    "        return np.array([1947, \"Sanha\", row['year'] - 1947, row['year'] - 2009])\n",
    "    else:\n",
    "        return [row['yrborn'], row['leader'], row['age'], row['tenure']]\n",
    "temp8 = archpvnelda.apply(fixmissingleaders, axis=1, result_type='expand')\n",
    "archpvnelda['yrborn'] = temp8[0]\n",
    "archpvnelda['leader'] = temp8[1]\n",
    "archpvnelda['age'] = temp8[2]\n",
    "archpvnelda['tenure'] = temp8[3]"
   ]
  },
  {
   "cell_type": "markdown",
   "metadata": {},
   "source": [
    "Next, like with the Polity V merge, I merge in countries that enter the archigos dataset in 1945."
   ]
  },
  {
   "cell_type": "code",
   "execution_count": 189,
   "metadata": {},
   "outputs": [],
   "source": [
    "archunwound['unlagyear'] = archunwound['year'] - 1\n",
    "foundings = pd.merge(archpvnelda[archpvnelda['age'].isna()], archunwound, how='left', left_on=['ccode', 'year'], right_on=['ccode', 'unlagyear'])\n",
    "archpvnelda = archpvnelda[~archpvnelda['age'].isna()]\n",
    "foundings.drop(['yrborn_x', 'leader_x', 'age_x', 'year_y', 'tenure_x', 'unlagyear'], axis=1, inplace=True)\n",
    "foundings.rename({'leader_y': 'leader', 'age_y': 'age', 'tenure_y': 'tenure', 'year_x': 'year', 'yrborn_y': 'yrborn'}, axis=1, inplace=True)\n",
    "frames = [archpvnelda, foundings]\n",
    "archpvnelda = pd.concat(frames)"
   ]
  },
  {
   "cell_type": "markdown",
   "metadata": {},
   "source": [
    "Next, I import Casey's dataset on Client Regimes."
   ]
  },
  {
   "cell_type": "code",
   "execution_count": 190,
   "metadata": {},
   "outputs": [],
   "source": [
    "clients = pd.read_csv('client_regimes.csv')"
   ]
  },
  {
   "cell_type": "code",
   "execution_count": 191,
   "metadata": {},
   "outputs": [
    {
     "data": {
      "text/plain": [
       "Index(['cowcode', 'year', 'gwf_casename', 'startdate', 'enddate', 'spell',\n",
       "       'duration', 'gwf_fail', 'gwf_fail_subs', 'gwf_fail_type',\n",
       "       'gwf_fail_violent', 'jan1leader', 'duration_ldr', 'ldr_fail',\n",
       "       'ldr_fail_reg_fail', 'ldr_fail_reg_survive', 'spons', 'any_spons',\n",
       "       'satellite', 'spons_spell', 'duration_spons', 'ptcoupsuccess',\n",
       "       'ptcoupfail', 'regfailcoup', 'ldrcoup', 'american', 'russian', 'soviet',\n",
       "       'prc_spons', 'british', 'french', 'viet_spons', 'yugo_spons',\n",
       "       'egy_spons', 'comm_spons', 'coldwar', 'ally', 'commissar', 'cbcount',\n",
       "       'pcount', 'party', 'personalist', 'military', 'monarchy', 'communist',\n",
       "       'gdpcap', 'gdpcapl', 'logoil', 'e_civil_war', 'supportparty',\n",
       "       'ldr_group_military', 'seizure_coup', 'seizure_rebel',\n",
       "       'seizure_election'],\n",
       "      dtype='object')"
      ]
     },
     "execution_count": 191,
     "metadata": {},
     "output_type": "execute_result"
    }
   ],
   "source": [
    "clients.columns"
   ]
  },
  {
   "cell_type": "code",
   "execution_count": 192,
   "metadata": {},
   "outputs": [],
   "source": [
    "shortclients = clients[['cowcode', 'year', 'spons', 'gwf_casename']]"
   ]
  },
  {
   "cell_type": "markdown",
   "metadata": {},
   "source": [
    "I merge in the clients data and create a clients column in the wider table for states identified by Casey as client states."
   ]
  },
  {
   "cell_type": "code",
   "execution_count": 193,
   "metadata": {},
   "outputs": [
    {
     "data": {
      "text/plain": [
       "False    2889\n",
       "True      458\n",
       "Name: client, dtype: int64"
      ]
     },
     "execution_count": 193,
     "metadata": {},
     "output_type": "execute_result"
    }
   ],
   "source": [
    "cliarchpvnelda = pd.merge(archpvnelda, shortclients, how='left', left_on=['ccode', 'year'], right_on=['cowcode', 'year'])\n",
    "cliarchpvnelda['client'] = (~cliarchpvnelda['gwf_casename'].isna() & cliarchpvnelda['spons'])\n",
    "cliarchpvnelda['client'].value_counts()"
   ]
  },
  {
   "cell_type": "markdown",
   "metadata": {},
   "source": [
    "Next, I merge in trade data from the correlates of war project. For my index of trade with major democracies, I calculate the total trade flow (imports and exports) of a country with five major democracies (the US, Japan, Germany, the UK, France) on a per-capita basis. I then add one to that number and take the log. I also lag my trade index by a year."
   ]
  },
  {
   "cell_type": "code",
   "execution_count": 194,
   "metadata": {},
   "outputs": [],
   "source": [
    "trade = pd.read_csv('Dyadic_COW_4.0.csv')\n",
    "trade['year'] = trade['year'] + 1\n",
    "bigdems = [2, 220, 255, 260, 200, 740]\n",
    "trade['BigDem2'] = trade['ccode2'].apply(lambda x: x in bigdems)\n",
    "trade['BigDem1'] = trade['ccode1'].apply(lambda x: x in bigdems)\n",
    "tradewds = trade[((trade['BigDem1']) | (trade['BigDem2'])) & ~((trade['BigDem1']) & (trade['BigDem2']))]"
   ]
  },
  {
   "cell_type": "code",
   "execution_count": 195,
   "metadata": {},
   "outputs": [
    {
     "name": "stderr",
     "output_type": "stream",
     "text": [
      "C:\\Users\\sctap\\Anaconda3\\lib\\site-packages\\ipykernel_launcher.py:6: SettingWithCopyWarning: \n",
      "A value is trying to be set on a copy of a slice from a DataFrame.\n",
      "Try using .loc[row_indexer,col_indexer] = value instead\n",
      "\n",
      "See the caveats in the documentation: https://pandas.pydata.org/pandas-docs/stable/user_guide/indexing.html#returning-a-view-versus-a-copy\n",
      "  \n"
     ]
    }
   ],
   "source": [
    "def nonbigdem(row):\n",
    "    if row['BigDem1']:\n",
    "        return row['ccode2']\n",
    "    else:\n",
    "        return row['ccode1']\n",
    "tradewds['RelCon'] = tradewds.apply(nonbigdem, axis=1)\n",
    "tradewds = tradewds.groupby(['RelCon', 'year']).sum().reset_index()[['RelCon', 'year', 'flow1', 'flow2', 'smoothtotrade']]"
   ]
  },
  {
   "cell_type": "markdown",
   "metadata": {},
   "source": [
    "I obtain population data from the national military capabilities dataset."
   ]
  },
  {
   "cell_type": "code",
   "execution_count": 196,
   "metadata": {},
   "outputs": [],
   "source": [
    "nmc = pd.read_csv('NMC_5_0.csv')\n",
    "nmc['year'] = nmc['year'] + 1\n",
    "tradewds = pd.merge(tradewds, nmc, how='left', left_on=['RelCon', 'year'], right_on=['ccode', 'year'])"
   ]
  },
  {
   "cell_type": "code",
   "execution_count": 197,
   "metadata": {},
   "outputs": [
    {
     "data": {
      "text/html": [
       "<div>\n",
       "<style scoped>\n",
       "    .dataframe tbody tr th:only-of-type {\n",
       "        vertical-align: middle;\n",
       "    }\n",
       "\n",
       "    .dataframe tbody tr th {\n",
       "        vertical-align: top;\n",
       "    }\n",
       "\n",
       "    .dataframe thead th {\n",
       "        text-align: right;\n",
       "    }\n",
       "</style>\n",
       "<table border=\"1\" class=\"dataframe\">\n",
       "  <thead>\n",
       "    <tr style=\"text-align: right;\">\n",
       "      <th></th>\n",
       "      <th>RelCon</th>\n",
       "      <th>year</th>\n",
       "      <th>flow1</th>\n",
       "      <th>flow2</th>\n",
       "      <th>smoothtotrade</th>\n",
       "      <th>stateabb</th>\n",
       "      <th>ccode</th>\n",
       "      <th>milex</th>\n",
       "      <th>milper</th>\n",
       "      <th>irst</th>\n",
       "      <th>pec</th>\n",
       "      <th>tpop</th>\n",
       "      <th>upop</th>\n",
       "      <th>cinc</th>\n",
       "      <th>version</th>\n",
       "    </tr>\n",
       "  </thead>\n",
       "  <tbody>\n",
       "    <tr>\n",
       "      <th>93</th>\n",
       "      <td>20</td>\n",
       "      <td>2014</td>\n",
       "      <td>384113.3187</td>\n",
       "      <td>297084.6556</td>\n",
       "      <td>681197.9715</td>\n",
       "      <td>NaN</td>\n",
       "      <td>NaN</td>\n",
       "      <td>NaN</td>\n",
       "      <td>NaN</td>\n",
       "      <td>NaN</td>\n",
       "      <td>NaN</td>\n",
       "      <td>NaN</td>\n",
       "      <td>NaN</td>\n",
       "      <td>NaN</td>\n",
       "      <td>NaN</td>\n",
       "    </tr>\n",
       "    <tr>\n",
       "      <th>94</th>\n",
       "      <td>20</td>\n",
       "      <td>2015</td>\n",
       "      <td>390153.5181</td>\n",
       "      <td>307182.2011</td>\n",
       "      <td>697335.7301</td>\n",
       "      <td>NaN</td>\n",
       "      <td>NaN</td>\n",
       "      <td>NaN</td>\n",
       "      <td>NaN</td>\n",
       "      <td>NaN</td>\n",
       "      <td>NaN</td>\n",
       "      <td>NaN</td>\n",
       "      <td>NaN</td>\n",
       "      <td>NaN</td>\n",
       "      <td>NaN</td>\n",
       "    </tr>\n",
       "  </tbody>\n",
       "</table>\n",
       "</div>"
      ],
      "text/plain": [
       "    RelCon  year        flow1        flow2  smoothtotrade stateabb  ccode  \\\n",
       "93      20  2014  384113.3187  297084.6556    681197.9715      NaN    NaN   \n",
       "94      20  2015  390153.5181  307182.2011    697335.7301      NaN    NaN   \n",
       "\n",
       "    milex  milper  irst  pec  tpop  upop  cinc  version  \n",
       "93    NaN     NaN   NaN  NaN   NaN   NaN   NaN      NaN  \n",
       "94    NaN     NaN   NaN  NaN   NaN   NaN   NaN      NaN  "
      ]
     },
     "execution_count": 197,
     "metadata": {},
     "output_type": "execute_result"
    }
   ],
   "source": [
    "tradewds[tradewds['ccode'].isna()].drop_duplicates('year')"
   ]
  },
  {
   "cell_type": "code",
   "execution_count": 198,
   "metadata": {},
   "outputs": [],
   "source": [
    "tradewds['reltrade'] = (tradewds['flow1'] + tradewds['flow2']) / tradewds['tpop']\n",
    "tradewds['trademissing'] = (tradewds['reltrade'] <= 0)"
   ]
  },
  {
   "cell_type": "markdown",
   "metadata": {},
   "source": [
    "Where trade data is missing entirely, I fill in a trade value of zero."
   ]
  },
  {
   "cell_type": "code",
   "execution_count": 199,
   "metadata": {},
   "outputs": [],
   "source": [
    "def missing(s):\n",
    "    if s <= 0:\n",
    "        return 0\n",
    "    else:\n",
    "        return s\n",
    "tradewds['reltrade'] = tradewds['reltrade'].apply(missing)\n",
    "tradewds['reltradelog'] = np.log((tradewds['reltrade'] + 1))"
   ]
  },
  {
   "cell_type": "markdown",
   "metadata": {},
   "source": [
    "Next, I create an index of membership in major liberal international organizations. I give one point for membership in the WTO, NATO, EU, GATT, OAS and the COE. Observers and associate members recieve half a point. I use correlates of war data."
   ]
  },
  {
   "cell_type": "code",
   "execution_count": 200,
   "metadata": {},
   "outputs": [
    {
     "name": "stderr",
     "output_type": "stream",
     "text": [
      "C:\\Users\\sctap\\Anaconda3\\lib\\site-packages\\ipykernel_launcher.py:10: SettingWithCopyWarning: \n",
      "A value is trying to be set on a copy of a slice from a DataFrame.\n",
      "Try using .loc[row_indexer,col_indexer] = value instead\n",
      "\n",
      "See the caveats in the documentation: https://pandas.pydata.org/pandas-docs/stable/user_guide/indexing.html#returning-a-view-versus-a-copy\n",
      "  # Remove the CWD from sys.path while we load stuff.\n"
     ]
    }
   ],
   "source": [
    "iomembership = pd.read_csv('state_year_formatv3.csv')\n",
    "relios = iomembership[['ccode', 'year', 'state', 'WTO', 'NATO', 'EU', 'GATT', 'OAS', 'COE']]\n",
    "def memtotal(s):\n",
    "    if s == 1:\n",
    "        return 1\n",
    "    if s == 2 or s == 3:\n",
    "        return 0.5\n",
    "    else:\n",
    "        return 0\n",
    "relios['sum'] = relios['WTO'].apply(memtotal) + relios['GATT'].apply(memtotal) + relios['NATO'].apply(memtotal) + relios['COE'].apply(memtotal) + relios['EU'].apply(memtotal) + relios['OAS'].apply(memtotal)"
   ]
  },
  {
   "cell_type": "markdown",
   "metadata": {},
   "source": [
    "In 1995, when GATT ended and was replaced by the WTO, I make sure to only add one point to each country for membership. "
   ]
  },
  {
   "cell_type": "code",
   "execution_count": 201,
   "metadata": {},
   "outputs": [
    {
     "name": "stderr",
     "output_type": "stream",
     "text": [
      "C:\\Users\\sctap\\Anaconda3\\lib\\site-packages\\ipykernel_launcher.py:6: SettingWithCopyWarning: \n",
      "A value is trying to be set on a copy of a slice from a DataFrame.\n",
      "Try using .loc[row_indexer,col_indexer] = value instead\n",
      "\n",
      "See the caveats in the documentation: https://pandas.pydata.org/pandas-docs/stable/user_guide/indexing.html#returning-a-view-versus-a-copy\n",
      "  \n"
     ]
    }
   ],
   "source": [
    "def fix1995(row):\n",
    "    if row['WTO'] == 1 and row['GATT'] == 1 and row['year'] == 1995:\n",
    "        return row['sum'] - 1\n",
    "    else:\n",
    "        return row['sum']\n",
    "relios['sum'] = relios.apply(fix1995, axis=1)"
   ]
  },
  {
   "cell_type": "markdown",
   "metadata": {},
   "source": [
    "I merge all the correlates of war data together into one table. Because of the limits of Casey's client regime dataset and the correlates of war data, I prune the NELDA elections dataset to include only elections between 1945 and 2013 (inclusive)."
   ]
  },
  {
   "cell_type": "code",
   "execution_count": 202,
   "metadata": {},
   "outputs": [],
   "source": [
    "cow = pd.merge(tradewds, relios, how='inner', left_on=['RelCon', 'year'], right_on=['ccode', 'year'])\n",
    "cow = cow[['RelCon', 'state', 'year', 'reltrade', 'reltradelog', 'sum']]\n",
    "testing = pd.merge(cliarchpvnelda, cow, how='left', left_on=['ccode', 'year'], right_on=['RelCon', 'year'])\n",
    "testing4513 = testing[testing['year'] < 2014]"
   ]
  },
  {
   "cell_type": "markdown",
   "metadata": {},
   "source": [
    "Next, I select only the elections that were competitive as defined by Hyde & Marinov (2012)."
   ]
  },
  {
   "cell_type": "code",
   "execution_count": 203,
   "metadata": {},
   "outputs": [
    {
     "name": "stderr",
     "output_type": "stream",
     "text": [
      "C:\\Users\\sctap\\Anaconda3\\lib\\site-packages\\ipykernel_launcher.py:1: SettingWithCopyWarning: \n",
      "A value is trying to be set on a copy of a slice from a DataFrame.\n",
      "Try using .loc[row_indexer,col_indexer] = value instead\n",
      "\n",
      "See the caveats in the documentation: https://pandas.pydata.org/pandas-docs/stable/user_guide/indexing.html#returning-a-view-versus-a-copy\n",
      "  \"\"\"Entry point for launching an IPython kernel.\n"
     ]
    }
   ],
   "source": [
    "testing4513['Competitive'] = (testing4513['nelda3'] == 'yes') & (testing4513['nelda4'] == 'yes') & (testing4513['nelda5'] == 'yes')\n",
    "testing4513 = testing4513[testing4513['Competitive']]"
   ]
  },
  {
   "cell_type": "markdown",
   "metadata": {},
   "source": [
    "I further narrow down my domain to competitive elections where the election was for the highest office in that country"
   ]
  },
  {
   "cell_type": "code",
   "execution_count": 204,
   "metadata": {},
   "outputs": [],
   "source": [
    "testing4513['National Executive'] = (testing4513['nelda20'] == 'yes')\n",
    "testing4513 = testing4513[testing4513['National Executive']]"
   ]
  },
  {
   "cell_type": "markdown",
   "metadata": {},
   "source": [
    "Next, I read in Data from the varieties of democracy country-year dataset. I use their index of electoral democracy."
   ]
  },
  {
   "cell_type": "code",
   "execution_count": 205,
   "metadata": {},
   "outputs": [],
   "source": [
    "vdem = pd.read_csv('V-Dem-CY-Core-v10.csv')\n",
    "vdem = vdem[vdem['year'] > 1943]\n",
    "vdem = vdem[['country_name', 'COWcode', 'year', 'v2x_polyarchy']]"
   ]
  },
  {
   "cell_type": "markdown",
   "metadata": {},
   "source": [
    "I lag the Vdem data by a year"
   ]
  },
  {
   "cell_type": "code",
   "execution_count": 206,
   "metadata": {},
   "outputs": [],
   "source": [
    "vdem['year'] = vdem['year'] + 1"
   ]
  },
  {
   "cell_type": "markdown",
   "metadata": {},
   "source": [
    "Then I merge with my dataset"
   ]
  },
  {
   "cell_type": "code",
   "execution_count": 207,
   "metadata": {},
   "outputs": [],
   "source": [
    "retesting = pd.merge(testing4513, vdem, how='left', left_on=['ccode', 'year'], right_on=['COWcode', 'year'])"
   ]
  },
  {
   "cell_type": "markdown",
   "metadata": {},
   "source": [
    "We run into some familiar merging problems"
   ]
  },
  {
   "cell_type": "code",
   "execution_count": 208,
   "metadata": {},
   "outputs": [
    {
     "data": {
      "text/html": [
       "<div>\n",
       "<style scoped>\n",
       "    .dataframe tbody tr th:only-of-type {\n",
       "        vertical-align: middle;\n",
       "    }\n",
       "\n",
       "    .dataframe tbody tr th {\n",
       "        vertical-align: top;\n",
       "    }\n",
       "\n",
       "    .dataframe thead th {\n",
       "        text-align: right;\n",
       "    }\n",
       "</style>\n",
       "<table border=\"1\" class=\"dataframe\">\n",
       "  <thead>\n",
       "    <tr style=\"text-align: right;\">\n",
       "      <th></th>\n",
       "      <th>country_x</th>\n",
       "      <th>country_name</th>\n",
       "    </tr>\n",
       "  </thead>\n",
       "  <tbody>\n",
       "    <tr>\n",
       "      <th>230</th>\n",
       "      <td>Surinam</td>\n",
       "      <td>Suriname</td>\n",
       "    </tr>\n",
       "    <tr>\n",
       "      <th>231</th>\n",
       "      <td>Surinam</td>\n",
       "      <td>Suriname</td>\n",
       "    </tr>\n",
       "    <tr>\n",
       "      <th>232</th>\n",
       "      <td>Surinam</td>\n",
       "      <td>Suriname</td>\n",
       "    </tr>\n",
       "    <tr>\n",
       "      <th>233</th>\n",
       "      <td>Surinam</td>\n",
       "      <td>Suriname</td>\n",
       "    </tr>\n",
       "    <tr>\n",
       "      <th>234</th>\n",
       "      <td>Surinam</td>\n",
       "      <td>Suriname</td>\n",
       "    </tr>\n",
       "    <tr>\n",
       "      <th>235</th>\n",
       "      <td>Surinam</td>\n",
       "      <td>Suriname</td>\n",
       "    </tr>\n",
       "    <tr>\n",
       "      <th>503</th>\n",
       "      <td>German Federal Republic</td>\n",
       "      <td>Germany</td>\n",
       "    </tr>\n",
       "    <tr>\n",
       "      <th>504</th>\n",
       "      <td>German Federal Republic</td>\n",
       "      <td>Germany</td>\n",
       "    </tr>\n",
       "    <tr>\n",
       "      <th>505</th>\n",
       "      <td>German Federal Republic</td>\n",
       "      <td>Germany</td>\n",
       "    </tr>\n",
       "    <tr>\n",
       "      <th>506</th>\n",
       "      <td>German Federal Republic</td>\n",
       "      <td>Germany</td>\n",
       "    </tr>\n",
       "    <tr>\n",
       "      <th>507</th>\n",
       "      <td>German Federal Republic</td>\n",
       "      <td>Germany</td>\n",
       "    </tr>\n",
       "    <tr>\n",
       "      <th>508</th>\n",
       "      <td>German Federal Republic</td>\n",
       "      <td>Germany</td>\n",
       "    </tr>\n",
       "    <tr>\n",
       "      <th>509</th>\n",
       "      <td>German Federal Republic</td>\n",
       "      <td>Germany</td>\n",
       "    </tr>\n",
       "    <tr>\n",
       "      <th>510</th>\n",
       "      <td>German Federal Republic</td>\n",
       "      <td>Germany</td>\n",
       "    </tr>\n",
       "    <tr>\n",
       "      <th>511</th>\n",
       "      <td>German Federal Republic</td>\n",
       "      <td>Germany</td>\n",
       "    </tr>\n",
       "    <tr>\n",
       "      <th>512</th>\n",
       "      <td>German Federal Republic</td>\n",
       "      <td>Germany</td>\n",
       "    </tr>\n",
       "    <tr>\n",
       "      <th>513</th>\n",
       "      <td>German Federal Republic</td>\n",
       "      <td>Germany</td>\n",
       "    </tr>\n",
       "    <tr>\n",
       "      <th>514</th>\n",
       "      <td>German Federal Republic</td>\n",
       "      <td>NaN</td>\n",
       "    </tr>\n",
       "    <tr>\n",
       "      <th>515</th>\n",
       "      <td>German Federal Republic</td>\n",
       "      <td>NaN</td>\n",
       "    </tr>\n",
       "    <tr>\n",
       "      <th>516</th>\n",
       "      <td>German Federal Republic</td>\n",
       "      <td>NaN</td>\n",
       "    </tr>\n",
       "    <tr>\n",
       "      <th>517</th>\n",
       "      <td>German Federal Republic</td>\n",
       "      <td>NaN</td>\n",
       "    </tr>\n",
       "    <tr>\n",
       "      <th>518</th>\n",
       "      <td>German Federal Republic</td>\n",
       "      <td>NaN</td>\n",
       "    </tr>\n",
       "    <tr>\n",
       "      <th>519</th>\n",
       "      <td>German Federal Republic</td>\n",
       "      <td>NaN</td>\n",
       "    </tr>\n",
       "    <tr>\n",
       "      <th>529</th>\n",
       "      <td>Austria</td>\n",
       "      <td>NaN</td>\n",
       "    </tr>\n",
       "    <tr>\n",
       "      <th>530</th>\n",
       "      <td>Austria</td>\n",
       "      <td>NaN</td>\n",
       "    </tr>\n",
       "    <tr>\n",
       "      <th>562</th>\n",
       "      <td>Czechoslovakia</td>\n",
       "      <td>Czech Republic</td>\n",
       "    </tr>\n",
       "    <tr>\n",
       "      <th>563</th>\n",
       "      <td>Czechoslovakia</td>\n",
       "      <td>Czech Republic</td>\n",
       "    </tr>\n",
       "    <tr>\n",
       "      <th>607</th>\n",
       "      <td>Serbia</td>\n",
       "      <td>NaN</td>\n",
       "    </tr>\n",
       "    <tr>\n",
       "      <th>608</th>\n",
       "      <td>Serbia</td>\n",
       "      <td>NaN</td>\n",
       "    </tr>\n",
       "    <tr>\n",
       "      <th>609</th>\n",
       "      <td>Serbia</td>\n",
       "      <td>NaN</td>\n",
       "    </tr>\n",
       "    <tr>\n",
       "      <th>610</th>\n",
       "      <td>Serbia</td>\n",
       "      <td>NaN</td>\n",
       "    </tr>\n",
       "    <tr>\n",
       "      <th>613</th>\n",
       "      <td>Macedonia (FYROM)</td>\n",
       "      <td>North Macedonia</td>\n",
       "    </tr>\n",
       "    <tr>\n",
       "      <th>614</th>\n",
       "      <td>Macedonia (FYROM)</td>\n",
       "      <td>North Macedonia</td>\n",
       "    </tr>\n",
       "    <tr>\n",
       "      <th>615</th>\n",
       "      <td>Macedonia (FYROM)</td>\n",
       "      <td>North Macedonia</td>\n",
       "    </tr>\n",
       "    <tr>\n",
       "      <th>616</th>\n",
       "      <td>Macedonia (FYROM)</td>\n",
       "      <td>North Macedonia</td>\n",
       "    </tr>\n",
       "    <tr>\n",
       "      <th>617</th>\n",
       "      <td>Macedonia (FYROM)</td>\n",
       "      <td>North Macedonia</td>\n",
       "    </tr>\n",
       "    <tr>\n",
       "      <th>618</th>\n",
       "      <td>Macedonia (FYROM)</td>\n",
       "      <td>North Macedonia</td>\n",
       "    </tr>\n",
       "    <tr>\n",
       "      <th>619</th>\n",
       "      <td>Macedonia (FYROM)</td>\n",
       "      <td>North Macedonia</td>\n",
       "    </tr>\n",
       "    <tr>\n",
       "      <th>620</th>\n",
       "      <td>Macedonia (FYROM)</td>\n",
       "      <td>North Macedonia</td>\n",
       "    </tr>\n",
       "    <tr>\n",
       "      <th>629</th>\n",
       "      <td>Serbia (Yugoslavia)</td>\n",
       "      <td>Serbia</td>\n",
       "    </tr>\n",
       "    <tr>\n",
       "      <th>630</th>\n",
       "      <td>Serbia (Yugoslavia)</td>\n",
       "      <td>Serbia</td>\n",
       "    </tr>\n",
       "    <tr>\n",
       "      <th>631</th>\n",
       "      <td>Serbia (Yugoslavia)</td>\n",
       "      <td>Serbia</td>\n",
       "    </tr>\n",
       "    <tr>\n",
       "      <th>632</th>\n",
       "      <td>Serbia (Yugoslavia)</td>\n",
       "      <td>Serbia</td>\n",
       "    </tr>\n",
       "    <tr>\n",
       "      <th>633</th>\n",
       "      <td>Serbia (Yugoslavia)</td>\n",
       "      <td>Serbia</td>\n",
       "    </tr>\n",
       "    <tr>\n",
       "      <th>634</th>\n",
       "      <td>Serbia (Yugoslavia)</td>\n",
       "      <td>Serbia</td>\n",
       "    </tr>\n",
       "    <tr>\n",
       "      <th>635</th>\n",
       "      <td>Serbia (Yugoslavia)</td>\n",
       "      <td>Serbia</td>\n",
       "    </tr>\n",
       "    <tr>\n",
       "      <th>636</th>\n",
       "      <td>Bosnia-Herzegovina</td>\n",
       "      <td>Bosnia and Herzegovina</td>\n",
       "    </tr>\n",
       "    <tr>\n",
       "      <th>637</th>\n",
       "      <td>Bosnia-Herzegovina</td>\n",
       "      <td>Bosnia and Herzegovina</td>\n",
       "    </tr>\n",
       "    <tr>\n",
       "      <th>638</th>\n",
       "      <td>Bosnia-Herzegovina</td>\n",
       "      <td>Bosnia and Herzegovina</td>\n",
       "    </tr>\n",
       "    <tr>\n",
       "      <th>639</th>\n",
       "      <td>Bosnia-Herzegovina</td>\n",
       "      <td>Bosnia and Herzegovina</td>\n",
       "    </tr>\n",
       "  </tbody>\n",
       "</table>\n",
       "</div>"
      ],
      "text/plain": [
       "                   country_x            country_name\n",
       "230                  Surinam                Suriname\n",
       "231                  Surinam                Suriname\n",
       "232                  Surinam                Suriname\n",
       "233                  Surinam                Suriname\n",
       "234                  Surinam                Suriname\n",
       "235                  Surinam                Suriname\n",
       "503  German Federal Republic                 Germany\n",
       "504  German Federal Republic                 Germany\n",
       "505  German Federal Republic                 Germany\n",
       "506  German Federal Republic                 Germany\n",
       "507  German Federal Republic                 Germany\n",
       "508  German Federal Republic                 Germany\n",
       "509  German Federal Republic                 Germany\n",
       "510  German Federal Republic                 Germany\n",
       "511  German Federal Republic                 Germany\n",
       "512  German Federal Republic                 Germany\n",
       "513  German Federal Republic                 Germany\n",
       "514  German Federal Republic                     NaN\n",
       "515  German Federal Republic                     NaN\n",
       "516  German Federal Republic                     NaN\n",
       "517  German Federal Republic                     NaN\n",
       "518  German Federal Republic                     NaN\n",
       "519  German Federal Republic                     NaN\n",
       "529                  Austria                     NaN\n",
       "530                  Austria                     NaN\n",
       "562           Czechoslovakia          Czech Republic\n",
       "563           Czechoslovakia          Czech Republic\n",
       "607                   Serbia                     NaN\n",
       "608                   Serbia                     NaN\n",
       "609                   Serbia                     NaN\n",
       "610                   Serbia                     NaN\n",
       "613        Macedonia (FYROM)         North Macedonia\n",
       "614        Macedonia (FYROM)         North Macedonia\n",
       "615        Macedonia (FYROM)         North Macedonia\n",
       "616        Macedonia (FYROM)         North Macedonia\n",
       "617        Macedonia (FYROM)         North Macedonia\n",
       "618        Macedonia (FYROM)         North Macedonia\n",
       "619        Macedonia (FYROM)         North Macedonia\n",
       "620        Macedonia (FYROM)         North Macedonia\n",
       "629      Serbia (Yugoslavia)                  Serbia\n",
       "630      Serbia (Yugoslavia)                  Serbia\n",
       "631      Serbia (Yugoslavia)                  Serbia\n",
       "632      Serbia (Yugoslavia)                  Serbia\n",
       "633      Serbia (Yugoslavia)                  Serbia\n",
       "634      Serbia (Yugoslavia)                  Serbia\n",
       "635      Serbia (Yugoslavia)                  Serbia\n",
       "636       Bosnia-Herzegovina  Bosnia and Herzegovina\n",
       "637       Bosnia-Herzegovina  Bosnia and Herzegovina\n",
       "638       Bosnia-Herzegovina  Bosnia and Herzegovina\n",
       "639       Bosnia-Herzegovina  Bosnia and Herzegovina"
      ]
     },
     "execution_count": 208,
     "metadata": {},
     "output_type": "execute_result"
    }
   ],
   "source": [
    "retesting[retesting['country_name'] != retesting['country_x']][['country_x', 'country_name']].head(50)"
   ]
  },
  {
   "cell_type": "markdown",
   "metadata": {},
   "source": [
    "For instance, post 2008 Serbia once again has a different country code in Vdem than in NELDA"
   ]
  },
  {
   "cell_type": "code",
   "execution_count": 209,
   "metadata": {},
   "outputs": [
    {
     "data": {
      "text/html": [
       "<div>\n",
       "<style scoped>\n",
       "    .dataframe tbody tr th:only-of-type {\n",
       "        vertical-align: middle;\n",
       "    }\n",
       "\n",
       "    .dataframe tbody tr th {\n",
       "        vertical-align: top;\n",
       "    }\n",
       "\n",
       "    .dataframe thead th {\n",
       "        text-align: right;\n",
       "    }\n",
       "</style>\n",
       "<table border=\"1\" class=\"dataframe\">\n",
       "  <thead>\n",
       "    <tr style=\"text-align: right;\">\n",
       "      <th></th>\n",
       "      <th>stateid</th>\n",
       "      <th>ccode</th>\n",
       "      <th>country_x</th>\n",
       "      <th>electionid</th>\n",
       "      <th>year</th>\n",
       "      <th>mmdd</th>\n",
       "      <th>types</th>\n",
       "      <th>notes</th>\n",
       "      <th>nelda1</th>\n",
       "      <th>nelda1notes</th>\n",
       "      <th>...</th>\n",
       "      <th>RelCon</th>\n",
       "      <th>state</th>\n",
       "      <th>reltrade</th>\n",
       "      <th>reltradelog</th>\n",
       "      <th>sum</th>\n",
       "      <th>Competitive</th>\n",
       "      <th>National Executive</th>\n",
       "      <th>country_name</th>\n",
       "      <th>COWcode</th>\n",
       "      <th>v2x_polyarchy</th>\n",
       "    </tr>\n",
       "  </thead>\n",
       "  <tbody>\n",
       "    <tr>\n",
       "      <th>607</th>\n",
       "      <td>SER</td>\n",
       "      <td>340</td>\n",
       "      <td>Serbia</td>\n",
       "      <td>340-2008-0120-P1</td>\n",
       "      <td>2008</td>\n",
       "      <td>120</td>\n",
       "      <td>Executive</td>\n",
       "      <td>This election was the first round of the Serbi...</td>\n",
       "      <td>no</td>\n",
       "      <td>NaN</td>\n",
       "      <td>...</td>\n",
       "      <td>NaN</td>\n",
       "      <td>NaN</td>\n",
       "      <td>NaN</td>\n",
       "      <td>NaN</td>\n",
       "      <td>NaN</td>\n",
       "      <td>True</td>\n",
       "      <td>True</td>\n",
       "      <td>NaN</td>\n",
       "      <td>NaN</td>\n",
       "      <td>NaN</td>\n",
       "    </tr>\n",
       "    <tr>\n",
       "      <th>608</th>\n",
       "      <td>SER</td>\n",
       "      <td>340</td>\n",
       "      <td>Serbia</td>\n",
       "      <td>340-2008-0120-P2</td>\n",
       "      <td>2008</td>\n",
       "      <td>203</td>\n",
       "      <td>Executive</td>\n",
       "      <td>This election was the second round of the Serb...</td>\n",
       "      <td>no</td>\n",
       "      <td>NaN</td>\n",
       "      <td>...</td>\n",
       "      <td>NaN</td>\n",
       "      <td>NaN</td>\n",
       "      <td>NaN</td>\n",
       "      <td>NaN</td>\n",
       "      <td>NaN</td>\n",
       "      <td>True</td>\n",
       "      <td>True</td>\n",
       "      <td>NaN</td>\n",
       "      <td>NaN</td>\n",
       "      <td>NaN</td>\n",
       "    </tr>\n",
       "    <tr>\n",
       "      <th>609</th>\n",
       "      <td>SER</td>\n",
       "      <td>340</td>\n",
       "      <td>Serbia</td>\n",
       "      <td>340-2012-0506-P1</td>\n",
       "      <td>2012</td>\n",
       "      <td>506</td>\n",
       "      <td>Executive</td>\n",
       "      <td>Serbia is a parliamentary republic. The execut...</td>\n",
       "      <td>no</td>\n",
       "      <td>NaN</td>\n",
       "      <td>...</td>\n",
       "      <td>NaN</td>\n",
       "      <td>NaN</td>\n",
       "      <td>NaN</td>\n",
       "      <td>NaN</td>\n",
       "      <td>NaN</td>\n",
       "      <td>True</td>\n",
       "      <td>True</td>\n",
       "      <td>NaN</td>\n",
       "      <td>NaN</td>\n",
       "      <td>NaN</td>\n",
       "    </tr>\n",
       "    <tr>\n",
       "      <th>610</th>\n",
       "      <td>SER</td>\n",
       "      <td>340</td>\n",
       "      <td>Serbia</td>\n",
       "      <td>340-2012-0506-P2</td>\n",
       "      <td>2012</td>\n",
       "      <td>520</td>\n",
       "      <td>Executive</td>\n",
       "      <td>Serbia is a parliamentary republic. The execut...</td>\n",
       "      <td>no</td>\n",
       "      <td>NaN</td>\n",
       "      <td>...</td>\n",
       "      <td>NaN</td>\n",
       "      <td>NaN</td>\n",
       "      <td>NaN</td>\n",
       "      <td>NaN</td>\n",
       "      <td>NaN</td>\n",
       "      <td>True</td>\n",
       "      <td>True</td>\n",
       "      <td>NaN</td>\n",
       "      <td>NaN</td>\n",
       "      <td>NaN</td>\n",
       "    </tr>\n",
       "  </tbody>\n",
       "</table>\n",
       "<p>4 rows × 152 columns</p>\n",
       "</div>"
      ],
      "text/plain": [
       "    stateid ccode country_x        electionid  year  mmdd      types  \\\n",
       "607     SER   340    Serbia  340-2008-0120-P1  2008   120  Executive   \n",
       "608     SER   340    Serbia  340-2008-0120-P2  2008   203  Executive   \n",
       "609     SER   340    Serbia  340-2012-0506-P1  2012   506  Executive   \n",
       "610     SER   340    Serbia  340-2012-0506-P2  2012   520  Executive   \n",
       "\n",
       "                                                 notes nelda1 nelda1notes  \\\n",
       "607  This election was the first round of the Serbi...     no         NaN   \n",
       "608  This election was the second round of the Serb...     no         NaN   \n",
       "609  Serbia is a parliamentary republic. The execut...     no         NaN   \n",
       "610  Serbia is a parliamentary republic. The execut...     no         NaN   \n",
       "\n",
       "     ... RelCon state reltrade reltradelog sum Competitive National Executive  \\\n",
       "607  ...    NaN   NaN      NaN         NaN NaN        True               True   \n",
       "608  ...    NaN   NaN      NaN         NaN NaN        True               True   \n",
       "609  ...    NaN   NaN      NaN         NaN NaN        True               True   \n",
       "610  ...    NaN   NaN      NaN         NaN NaN        True               True   \n",
       "\n",
       "    country_name COWcode v2x_polyarchy  \n",
       "607          NaN     NaN           NaN  \n",
       "608          NaN     NaN           NaN  \n",
       "609          NaN     NaN           NaN  \n",
       "610          NaN     NaN           NaN  \n",
       "\n",
       "[4 rows x 152 columns]"
      ]
     },
     "execution_count": 209,
     "metadata": {},
     "output_type": "execute_result"
    }
   ],
   "source": [
    "retesting[retesting['country_x'] == 'Serbia']"
   ]
  },
  {
   "cell_type": "markdown",
   "metadata": {},
   "source": [
    "The two problem countries (for the purpose of my analysis. Germany has mismatching country codes, but because German elections are democratic and will soon be dropped from the dataset anyway, I don't need to manually match that case) are Serbia and Yemen, so I manually match those."
   ]
  },
  {
   "cell_type": "code",
   "execution_count": 210,
   "metadata": {},
   "outputs": [],
   "source": [
    "serbia = vdem[vdem['country_name'] == 'Serbia']\n",
    "yemen = vdem[vdem['country_name'] == 'Yemen']\n",
    "def addserbiayem(row):\n",
    "    if row['ccode'] == 678 and row['year'] >= 1999 and row['year'] <= 2006:\n",
    "        return np.array(yemen[(yemen['year'] == row['year'])][['country_name', 'COWcode', 'v2x_polyarchy']].iloc[0])\n",
    "    elif row['ccode'] == 340 and row['year'] >= 2008 and row['year'] <= 2012:\n",
    "        return np.array(serbia[(serbia['year'] == row['year'])][['country_name', 'COWcode', 'v2x_polyarchy']].iloc[0])\n",
    "    else:\n",
    "        return [row['country_name'], row['COWcode'], row['v2x_polyarchy']]\n",
    "storefixed = retesting.apply(addserbiayem, axis=1, result_type='expand')\n",
    "retesting['country_name'] = storefixed[0]\n",
    "retesting['COWcode'] = storefixed[1]\n",
    "retesting['v2x_polyarchy'] = storefixed[2]"
   ]
  },
  {
   "cell_type": "markdown",
   "metadata": {},
   "source": [
    "I consider countries with an electoral democracy index below 0.6 to be electoral autocracies."
   ]
  },
  {
   "cell_type": "code",
   "execution_count": 211,
   "metadata": {},
   "outputs": [],
   "source": [
    "retesting['Electoral Autocracy'] = retesting['v2x_polyarchy'] <= 0.6\n",
    "retesting = retesting[retesting['Electoral Autocracy']]"
   ]
  },
  {
   "cell_type": "markdown",
   "metadata": {},
   "source": [
    "Now I circle back to fix mismatching country-codes between NELDA and the correlates of war data. I find 16 entries in my table that are missing the COW data."
   ]
  },
  {
   "cell_type": "code",
   "execution_count": 212,
   "metadata": {},
   "outputs": [
    {
     "data": {
      "text/html": [
       "<div>\n",
       "<style scoped>\n",
       "    .dataframe tbody tr th:only-of-type {\n",
       "        vertical-align: middle;\n",
       "    }\n",
       "\n",
       "    .dataframe tbody tr th {\n",
       "        vertical-align: top;\n",
       "    }\n",
       "\n",
       "    .dataframe thead th {\n",
       "        text-align: right;\n",
       "    }\n",
       "</style>\n",
       "<table border=\"1\" class=\"dataframe\">\n",
       "  <thead>\n",
       "    <tr style=\"text-align: right;\">\n",
       "      <th></th>\n",
       "      <th>stateid</th>\n",
       "      <th>ccode</th>\n",
       "      <th>country_x</th>\n",
       "      <th>electionid</th>\n",
       "      <th>year</th>\n",
       "      <th>mmdd</th>\n",
       "      <th>types</th>\n",
       "      <th>notes</th>\n",
       "      <th>nelda1</th>\n",
       "      <th>nelda1notes</th>\n",
       "      <th>...</th>\n",
       "      <th>state</th>\n",
       "      <th>reltrade</th>\n",
       "      <th>reltradelog</th>\n",
       "      <th>sum</th>\n",
       "      <th>Competitive</th>\n",
       "      <th>National Executive</th>\n",
       "      <th>country_name</th>\n",
       "      <th>COWcode</th>\n",
       "      <th>v2x_polyarchy</th>\n",
       "      <th>Electoral Autocracy</th>\n",
       "    </tr>\n",
       "  </thead>\n",
       "  <tbody>\n",
       "    <tr>\n",
       "      <th>0</th>\n",
       "      <td>USA</td>\n",
       "      <td>2</td>\n",
       "      <td>United States of America</td>\n",
       "      <td>002-1948-1102-P1</td>\n",
       "      <td>1948</td>\n",
       "      <td>1102</td>\n",
       "      <td>Executive</td>\n",
       "      <td>Truman's first campaign for presidency; consid...</td>\n",
       "      <td>no</td>\n",
       "      <td>NaN</td>\n",
       "      <td>...</td>\n",
       "      <td>NaN</td>\n",
       "      <td>NaN</td>\n",
       "      <td>NaN</td>\n",
       "      <td>NaN</td>\n",
       "      <td>True</td>\n",
       "      <td>True</td>\n",
       "      <td>United States of America</td>\n",
       "      <td>2.0</td>\n",
       "      <td>0.587</td>\n",
       "      <td>True</td>\n",
       "    </tr>\n",
       "    <tr>\n",
       "      <th>454</th>\n",
       "      <td>FRN</td>\n",
       "      <td>220</td>\n",
       "      <td>France</td>\n",
       "      <td>220-1945-1021-A1</td>\n",
       "      <td>1945</td>\n",
       "      <td>1021</td>\n",
       "      <td>Constituent Assembly</td>\n",
       "      <td>These was the first national election since 19...</td>\n",
       "      <td>yes</td>\n",
       "      <td>NaN</td>\n",
       "      <td>...</td>\n",
       "      <td>NaN</td>\n",
       "      <td>NaN</td>\n",
       "      <td>NaN</td>\n",
       "      <td>NaN</td>\n",
       "      <td>True</td>\n",
       "      <td>True</td>\n",
       "      <td>France</td>\n",
       "      <td>220.0</td>\n",
       "      <td>0.092</td>\n",
       "      <td>True</td>\n",
       "    </tr>\n",
       "    <tr>\n",
       "      <th>455</th>\n",
       "      <td>FRN</td>\n",
       "      <td>220</td>\n",
       "      <td>France</td>\n",
       "      <td>220-1946-0602-A1</td>\n",
       "      <td>1946</td>\n",
       "      <td>602</td>\n",
       "      <td>Constituent Assembly</td>\n",
       "      <td>This represented a setback for left wing parti...</td>\n",
       "      <td>no</td>\n",
       "      <td>NaN</td>\n",
       "      <td>...</td>\n",
       "      <td>NaN</td>\n",
       "      <td>NaN</td>\n",
       "      <td>NaN</td>\n",
       "      <td>NaN</td>\n",
       "      <td>True</td>\n",
       "      <td>True</td>\n",
       "      <td>France</td>\n",
       "      <td>220.0</td>\n",
       "      <td>0.175</td>\n",
       "      <td>True</td>\n",
       "    </tr>\n",
       "    <tr>\n",
       "      <th>456</th>\n",
       "      <td>FRN</td>\n",
       "      <td>220</td>\n",
       "      <td>France</td>\n",
       "      <td>220-1946-1110-L1</td>\n",
       "      <td>1946</td>\n",
       "      <td>1110</td>\n",
       "      <td>Legislative/Parliamentary</td>\n",
       "      <td>First National Assembly election; kept the Thr...</td>\n",
       "      <td>yes</td>\n",
       "      <td>NaN</td>\n",
       "      <td>...</td>\n",
       "      <td>NaN</td>\n",
       "      <td>NaN</td>\n",
       "      <td>NaN</td>\n",
       "      <td>NaN</td>\n",
       "      <td>True</td>\n",
       "      <td>True</td>\n",
       "      <td>France</td>\n",
       "      <td>220.0</td>\n",
       "      <td>0.175</td>\n",
       "      <td>True</td>\n",
       "    </tr>\n",
       "    <tr>\n",
       "      <th>621</th>\n",
       "      <td>CRO</td>\n",
       "      <td>344</td>\n",
       "      <td>Croatia</td>\n",
       "      <td>344-1992-0802-P1</td>\n",
       "      <td>1992</td>\n",
       "      <td>802</td>\n",
       "      <td>Executive</td>\n",
       "      <td>NaN</td>\n",
       "      <td>yes</td>\n",
       "      <td>These were the first elections post-independence</td>\n",
       "      <td>...</td>\n",
       "      <td>NaN</td>\n",
       "      <td>NaN</td>\n",
       "      <td>NaN</td>\n",
       "      <td>NaN</td>\n",
       "      <td>True</td>\n",
       "      <td>True</td>\n",
       "      <td>Croatia</td>\n",
       "      <td>344.0</td>\n",
       "      <td>0.246</td>\n",
       "      <td>True</td>\n",
       "    </tr>\n",
       "    <tr>\n",
       "      <th>800</th>\n",
       "      <td>NOR</td>\n",
       "      <td>385</td>\n",
       "      <td>Norway</td>\n",
       "      <td>385-1945-1008-L1</td>\n",
       "      <td>1945</td>\n",
       "      <td>1008</td>\n",
       "      <td>Legislative/Parliamentary</td>\n",
       "      <td>NaN</td>\n",
       "      <td>yes</td>\n",
       "      <td>NaN</td>\n",
       "      <td>...</td>\n",
       "      <td>NaN</td>\n",
       "      <td>NaN</td>\n",
       "      <td>NaN</td>\n",
       "      <td>NaN</td>\n",
       "      <td>True</td>\n",
       "      <td>True</td>\n",
       "      <td>Norway</td>\n",
       "      <td>385.0</td>\n",
       "      <td>0.102</td>\n",
       "      <td>True</td>\n",
       "    </tr>\n",
       "    <tr>\n",
       "      <th>817</th>\n",
       "      <td>DEN</td>\n",
       "      <td>390</td>\n",
       "      <td>Denmark</td>\n",
       "      <td>390-1945-1030-L1</td>\n",
       "      <td>1945</td>\n",
       "      <td>1030</td>\n",
       "      <td>Legislative/Parliamentary</td>\n",
       "      <td>First elections since independence from occupy...</td>\n",
       "      <td>no</td>\n",
       "      <td>NaN</td>\n",
       "      <td>...</td>\n",
       "      <td>NaN</td>\n",
       "      <td>NaN</td>\n",
       "      <td>NaN</td>\n",
       "      <td>NaN</td>\n",
       "      <td>True</td>\n",
       "      <td>True</td>\n",
       "      <td>Denmark</td>\n",
       "      <td>390.0</td>\n",
       "      <td>0.199</td>\n",
       "      <td>True</td>\n",
       "    </tr>\n",
       "    <tr>\n",
       "      <th>1156</th>\n",
       "      <td>YEM</td>\n",
       "      <td>678</td>\n",
       "      <td>Yemen</td>\n",
       "      <td>678-1999-0923-P1</td>\n",
       "      <td>1999</td>\n",
       "      <td>923</td>\n",
       "      <td>Executive</td>\n",
       "      <td>NaN</td>\n",
       "      <td>no</td>\n",
       "      <td>While Parliament routinely selected the presid...</td>\n",
       "      <td>...</td>\n",
       "      <td>NaN</td>\n",
       "      <td>NaN</td>\n",
       "      <td>NaN</td>\n",
       "      <td>NaN</td>\n",
       "      <td>True</td>\n",
       "      <td>True</td>\n",
       "      <td>Yemen</td>\n",
       "      <td>679.0</td>\n",
       "      <td>0.290</td>\n",
       "      <td>True</td>\n",
       "    </tr>\n",
       "    <tr>\n",
       "      <th>1157</th>\n",
       "      <td>YEM</td>\n",
       "      <td>678</td>\n",
       "      <td>Yemen</td>\n",
       "      <td>678-2006-0920-P1</td>\n",
       "      <td>2006</td>\n",
       "      <td>920</td>\n",
       "      <td>Executive</td>\n",
       "      <td>President Ali Abdullah SALEH, who had been in ...</td>\n",
       "      <td>no</td>\n",
       "      <td>NaN</td>\n",
       "      <td>...</td>\n",
       "      <td>NaN</td>\n",
       "      <td>NaN</td>\n",
       "      <td>NaN</td>\n",
       "      <td>NaN</td>\n",
       "      <td>True</td>\n",
       "      <td>True</td>\n",
       "      <td>Yemen</td>\n",
       "      <td>679.0</td>\n",
       "      <td>0.328</td>\n",
       "      <td>True</td>\n",
       "    </tr>\n",
       "    <tr>\n",
       "      <th>1196</th>\n",
       "      <td>JPN</td>\n",
       "      <td>740</td>\n",
       "      <td>Japan</td>\n",
       "      <td>740-1952-1001-L1</td>\n",
       "      <td>1952</td>\n",
       "      <td>1001</td>\n",
       "      <td>Legislative/Parliamentary</td>\n",
       "      <td>These were the first elections since the end o...</td>\n",
       "      <td>no</td>\n",
       "      <td>NaN</td>\n",
       "      <td>...</td>\n",
       "      <td>NaN</td>\n",
       "      <td>NaN</td>\n",
       "      <td>NaN</td>\n",
       "      <td>NaN</td>\n",
       "      <td>True</td>\n",
       "      <td>True</td>\n",
       "      <td>Japan</td>\n",
       "      <td>740.0</td>\n",
       "      <td>0.374</td>\n",
       "      <td>True</td>\n",
       "    </tr>\n",
       "    <tr>\n",
       "      <th>1435</th>\n",
       "      <td>UKR</td>\n",
       "      <td>369</td>\n",
       "      <td>Ukraine</td>\n",
       "      <td>369-1991-1201-P1</td>\n",
       "      <td>1991</td>\n",
       "      <td>1201</td>\n",
       "      <td>Executive</td>\n",
       "      <td>NaN</td>\n",
       "      <td>yes</td>\n",
       "      <td>Ukraine did not declare independence until Aug...</td>\n",
       "      <td>...</td>\n",
       "      <td>NaN</td>\n",
       "      <td>NaN</td>\n",
       "      <td>NaN</td>\n",
       "      <td>NaN</td>\n",
       "      <td>True</td>\n",
       "      <td>True</td>\n",
       "      <td>Ukraine</td>\n",
       "      <td>369.0</td>\n",
       "      <td>0.373</td>\n",
       "      <td>True</td>\n",
       "    </tr>\n",
       "    <tr>\n",
       "      <th>1437</th>\n",
       "      <td>UZB</td>\n",
       "      <td>704</td>\n",
       "      <td>Uzbekistan</td>\n",
       "      <td>704-1991-1229-P1</td>\n",
       "      <td>1991</td>\n",
       "      <td>1229</td>\n",
       "      <td>Executive</td>\n",
       "      <td>NaN</td>\n",
       "      <td>no</td>\n",
       "      <td>NaN</td>\n",
       "      <td>...</td>\n",
       "      <td>NaN</td>\n",
       "      <td>NaN</td>\n",
       "      <td>NaN</td>\n",
       "      <td>NaN</td>\n",
       "      <td>True</td>\n",
       "      <td>True</td>\n",
       "      <td>Uzbekistan</td>\n",
       "      <td>704.0</td>\n",
       "      <td>0.219</td>\n",
       "      <td>True</td>\n",
       "    </tr>\n",
       "    <tr>\n",
       "      <th>1439</th>\n",
       "      <td>ARM</td>\n",
       "      <td>371</td>\n",
       "      <td>Armenia</td>\n",
       "      <td>371-1991-1016-P1</td>\n",
       "      <td>1991</td>\n",
       "      <td>1016</td>\n",
       "      <td>Executive</td>\n",
       "      <td>NaN</td>\n",
       "      <td>yes</td>\n",
       "      <td>NaN</td>\n",
       "      <td>...</td>\n",
       "      <td>NaN</td>\n",
       "      <td>NaN</td>\n",
       "      <td>NaN</td>\n",
       "      <td>NaN</td>\n",
       "      <td>True</td>\n",
       "      <td>True</td>\n",
       "      <td>Armenia</td>\n",
       "      <td>371.0</td>\n",
       "      <td>0.581</td>\n",
       "      <td>True</td>\n",
       "    </tr>\n",
       "    <tr>\n",
       "      <th>1440</th>\n",
       "      <td>BEN</td>\n",
       "      <td>434</td>\n",
       "      <td>Benin</td>\n",
       "      <td>434-1960-1211-L1</td>\n",
       "      <td>1960</td>\n",
       "      <td>1211</td>\n",
       "      <td>Legislative/Parliamentary</td>\n",
       "      <td>NaN</td>\n",
       "      <td>no</td>\n",
       "      <td>NaN</td>\n",
       "      <td>...</td>\n",
       "      <td>NaN</td>\n",
       "      <td>NaN</td>\n",
       "      <td>NaN</td>\n",
       "      <td>NaN</td>\n",
       "      <td>True</td>\n",
       "      <td>True</td>\n",
       "      <td>Benin</td>\n",
       "      <td>434.0</td>\n",
       "      <td>0.162</td>\n",
       "      <td>True</td>\n",
       "    </tr>\n",
       "    <tr>\n",
       "      <th>1441</th>\n",
       "      <td>BEN</td>\n",
       "      <td>434</td>\n",
       "      <td>Benin</td>\n",
       "      <td>434-1960-1211-P1</td>\n",
       "      <td>1960</td>\n",
       "      <td>1211</td>\n",
       "      <td>Executive</td>\n",
       "      <td>This was the first presidential election since...</td>\n",
       "      <td>yes</td>\n",
       "      <td>Benin (then called Dahomey) became independent...</td>\n",
       "      <td>...</td>\n",
       "      <td>NaN</td>\n",
       "      <td>NaN</td>\n",
       "      <td>NaN</td>\n",
       "      <td>NaN</td>\n",
       "      <td>True</td>\n",
       "      <td>True</td>\n",
       "      <td>Benin</td>\n",
       "      <td>434.0</td>\n",
       "      <td>0.162</td>\n",
       "      <td>True</td>\n",
       "    </tr>\n",
       "    <tr>\n",
       "      <th>1444</th>\n",
       "      <td>TAJ</td>\n",
       "      <td>702</td>\n",
       "      <td>Tajikistan</td>\n",
       "      <td>702-1991-1124-P1</td>\n",
       "      <td>1991</td>\n",
       "      <td>1124</td>\n",
       "      <td>Executive</td>\n",
       "      <td>NaN</td>\n",
       "      <td>no</td>\n",
       "      <td>NaN</td>\n",
       "      <td>...</td>\n",
       "      <td>NaN</td>\n",
       "      <td>NaN</td>\n",
       "      <td>NaN</td>\n",
       "      <td>NaN</td>\n",
       "      <td>True</td>\n",
       "      <td>True</td>\n",
       "      <td>Tajikistan</td>\n",
       "      <td>702.0</td>\n",
       "      <td>0.271</td>\n",
       "      <td>True</td>\n",
       "    </tr>\n",
       "  </tbody>\n",
       "</table>\n",
       "<p>16 rows × 153 columns</p>\n",
       "</div>"
      ],
      "text/plain": [
       "     stateid ccode                 country_x        electionid  year  mmdd  \\\n",
       "0        USA     2  United States of America  002-1948-1102-P1  1948  1102   \n",
       "454      FRN   220                    France  220-1945-1021-A1  1945  1021   \n",
       "455      FRN   220                    France  220-1946-0602-A1  1946   602   \n",
       "456      FRN   220                    France  220-1946-1110-L1  1946  1110   \n",
       "621      CRO   344                   Croatia  344-1992-0802-P1  1992   802   \n",
       "800      NOR   385                    Norway  385-1945-1008-L1  1945  1008   \n",
       "817      DEN   390                   Denmark  390-1945-1030-L1  1945  1030   \n",
       "1156     YEM   678                     Yemen  678-1999-0923-P1  1999   923   \n",
       "1157     YEM   678                     Yemen  678-2006-0920-P1  2006   920   \n",
       "1196     JPN   740                     Japan  740-1952-1001-L1  1952  1001   \n",
       "1435     UKR   369                   Ukraine  369-1991-1201-P1  1991  1201   \n",
       "1437     UZB   704                Uzbekistan  704-1991-1229-P1  1991  1229   \n",
       "1439     ARM   371                   Armenia  371-1991-1016-P1  1991  1016   \n",
       "1440     BEN   434                     Benin  434-1960-1211-L1  1960  1211   \n",
       "1441     BEN   434                     Benin  434-1960-1211-P1  1960  1211   \n",
       "1444     TAJ   702                Tajikistan  702-1991-1124-P1  1991  1124   \n",
       "\n",
       "                          types  \\\n",
       "0                     Executive   \n",
       "454        Constituent Assembly   \n",
       "455        Constituent Assembly   \n",
       "456   Legislative/Parliamentary   \n",
       "621                   Executive   \n",
       "800   Legislative/Parliamentary   \n",
       "817   Legislative/Parliamentary   \n",
       "1156                  Executive   \n",
       "1157                  Executive   \n",
       "1196  Legislative/Parliamentary   \n",
       "1435                  Executive   \n",
       "1437                  Executive   \n",
       "1439                  Executive   \n",
       "1440  Legislative/Parliamentary   \n",
       "1441                  Executive   \n",
       "1444                  Executive   \n",
       "\n",
       "                                                  notes nelda1  \\\n",
       "0     Truman's first campaign for presidency; consid...     no   \n",
       "454   These was the first national election since 19...    yes   \n",
       "455   This represented a setback for left wing parti...     no   \n",
       "456   First National Assembly election; kept the Thr...    yes   \n",
       "621                                                 NaN    yes   \n",
       "800                                                 NaN    yes   \n",
       "817   First elections since independence from occupy...     no   \n",
       "1156                                                NaN     no   \n",
       "1157  President Ali Abdullah SALEH, who had been in ...     no   \n",
       "1196  These were the first elections since the end o...     no   \n",
       "1435                                                NaN    yes   \n",
       "1437                                                NaN     no   \n",
       "1439                                                NaN    yes   \n",
       "1440                                                NaN     no   \n",
       "1441  This was the first presidential election since...    yes   \n",
       "1444                                                NaN     no   \n",
       "\n",
       "                                            nelda1notes  ... state reltrade  \\\n",
       "0                                                   NaN  ...   NaN      NaN   \n",
       "454                                                 NaN  ...   NaN      NaN   \n",
       "455                                                 NaN  ...   NaN      NaN   \n",
       "456                                                 NaN  ...   NaN      NaN   \n",
       "621    These were the first elections post-independence  ...   NaN      NaN   \n",
       "800                                                 NaN  ...   NaN      NaN   \n",
       "817                                                 NaN  ...   NaN      NaN   \n",
       "1156  While Parliament routinely selected the presid...  ...   NaN      NaN   \n",
       "1157                                                NaN  ...   NaN      NaN   \n",
       "1196                                                NaN  ...   NaN      NaN   \n",
       "1435  Ukraine did not declare independence until Aug...  ...   NaN      NaN   \n",
       "1437                                                NaN  ...   NaN      NaN   \n",
       "1439                                                NaN  ...   NaN      NaN   \n",
       "1440                                                NaN  ...   NaN      NaN   \n",
       "1441  Benin (then called Dahomey) became independent...  ...   NaN      NaN   \n",
       "1444                                                NaN  ...   NaN      NaN   \n",
       "\n",
       "     reltradelog sum Competitive National Executive              country_name  \\\n",
       "0            NaN NaN        True               True  United States of America   \n",
       "454          NaN NaN        True               True                    France   \n",
       "455          NaN NaN        True               True                    France   \n",
       "456          NaN NaN        True               True                    France   \n",
       "621          NaN NaN        True               True                   Croatia   \n",
       "800          NaN NaN        True               True                    Norway   \n",
       "817          NaN NaN        True               True                   Denmark   \n",
       "1156         NaN NaN        True               True                     Yemen   \n",
       "1157         NaN NaN        True               True                     Yemen   \n",
       "1196         NaN NaN        True               True                     Japan   \n",
       "1435         NaN NaN        True               True                   Ukraine   \n",
       "1437         NaN NaN        True               True                Uzbekistan   \n",
       "1439         NaN NaN        True               True                   Armenia   \n",
       "1440         NaN NaN        True               True                     Benin   \n",
       "1441         NaN NaN        True               True                     Benin   \n",
       "1444         NaN NaN        True               True                Tajikistan   \n",
       "\n",
       "     COWcode v2x_polyarchy Electoral Autocracy  \n",
       "0        2.0         0.587                True  \n",
       "454    220.0         0.092                True  \n",
       "455    220.0         0.175                True  \n",
       "456    220.0         0.175                True  \n",
       "621    344.0         0.246                True  \n",
       "800    385.0         0.102                True  \n",
       "817    390.0         0.199                True  \n",
       "1156   679.0         0.290                True  \n",
       "1157   679.0         0.328                True  \n",
       "1196   740.0         0.374                True  \n",
       "1435   369.0         0.373                True  \n",
       "1437   704.0         0.219                True  \n",
       "1439   371.0         0.581                True  \n",
       "1440   434.0         0.162                True  \n",
       "1441   434.0         0.162                True  \n",
       "1444   702.0         0.271                True  \n",
       "\n",
       "[16 rows x 153 columns]"
      ]
     },
     "execution_count": 212,
     "metadata": {},
     "output_type": "execute_result"
    }
   ],
   "source": [
    "retesting[retesting['state'].isna()]"
   ]
  },
  {
   "cell_type": "markdown",
   "metadata": {},
   "source": [
    "I choose to drop the French elections of 1945 and 1946 as well as Norway's 1945 election and Denmark's 1945 election. Those took place in the aftermath of Nazi occupation and they can't be considered to take place in an electoral autocracy. I also drop Japan's 1952 election (which took place under US occupation) and the US presidential election of 1948. "
   ]
  },
  {
   "cell_type": "code",
   "execution_count": 213,
   "metadata": {},
   "outputs": [],
   "source": [
    "retesting.drop([0, 454, 455, 456, 800, 817, 1196], inplace=True)"
   ]
  },
  {
   "cell_type": "markdown",
   "metadata": {},
   "source": [
    "A few elections are still missing data, so I fill in those values manually. "
   ]
  },
  {
   "cell_type": "code",
   "execution_count": 214,
   "metadata": {},
   "outputs": [
    {
     "data": {
      "text/html": [
       "<div>\n",
       "<style scoped>\n",
       "    .dataframe tbody tr th:only-of-type {\n",
       "        vertical-align: middle;\n",
       "    }\n",
       "\n",
       "    .dataframe tbody tr th {\n",
       "        vertical-align: top;\n",
       "    }\n",
       "\n",
       "    .dataframe thead th {\n",
       "        text-align: right;\n",
       "    }\n",
       "</style>\n",
       "<table border=\"1\" class=\"dataframe\">\n",
       "  <thead>\n",
       "    <tr style=\"text-align: right;\">\n",
       "      <th></th>\n",
       "      <th>stateid</th>\n",
       "      <th>ccode</th>\n",
       "      <th>country_x</th>\n",
       "      <th>electionid</th>\n",
       "      <th>year</th>\n",
       "      <th>mmdd</th>\n",
       "      <th>types</th>\n",
       "      <th>notes</th>\n",
       "      <th>nelda1</th>\n",
       "      <th>nelda1notes</th>\n",
       "      <th>...</th>\n",
       "      <th>state</th>\n",
       "      <th>reltrade</th>\n",
       "      <th>reltradelog</th>\n",
       "      <th>sum</th>\n",
       "      <th>Competitive</th>\n",
       "      <th>National Executive</th>\n",
       "      <th>country_name</th>\n",
       "      <th>COWcode</th>\n",
       "      <th>v2x_polyarchy</th>\n",
       "      <th>Electoral Autocracy</th>\n",
       "    </tr>\n",
       "  </thead>\n",
       "  <tbody>\n",
       "    <tr>\n",
       "      <th>621</th>\n",
       "      <td>CRO</td>\n",
       "      <td>344</td>\n",
       "      <td>Croatia</td>\n",
       "      <td>344-1992-0802-P1</td>\n",
       "      <td>1992</td>\n",
       "      <td>802</td>\n",
       "      <td>Executive</td>\n",
       "      <td>NaN</td>\n",
       "      <td>yes</td>\n",
       "      <td>These were the first elections post-independence</td>\n",
       "      <td>...</td>\n",
       "      <td>NaN</td>\n",
       "      <td>NaN</td>\n",
       "      <td>NaN</td>\n",
       "      <td>NaN</td>\n",
       "      <td>True</td>\n",
       "      <td>True</td>\n",
       "      <td>Croatia</td>\n",
       "      <td>344.0</td>\n",
       "      <td>0.246</td>\n",
       "      <td>True</td>\n",
       "    </tr>\n",
       "    <tr>\n",
       "      <th>1156</th>\n",
       "      <td>YEM</td>\n",
       "      <td>678</td>\n",
       "      <td>Yemen</td>\n",
       "      <td>678-1999-0923-P1</td>\n",
       "      <td>1999</td>\n",
       "      <td>923</td>\n",
       "      <td>Executive</td>\n",
       "      <td>NaN</td>\n",
       "      <td>no</td>\n",
       "      <td>While Parliament routinely selected the presid...</td>\n",
       "      <td>...</td>\n",
       "      <td>NaN</td>\n",
       "      <td>NaN</td>\n",
       "      <td>NaN</td>\n",
       "      <td>NaN</td>\n",
       "      <td>True</td>\n",
       "      <td>True</td>\n",
       "      <td>Yemen</td>\n",
       "      <td>679.0</td>\n",
       "      <td>0.290</td>\n",
       "      <td>True</td>\n",
       "    </tr>\n",
       "    <tr>\n",
       "      <th>1157</th>\n",
       "      <td>YEM</td>\n",
       "      <td>678</td>\n",
       "      <td>Yemen</td>\n",
       "      <td>678-2006-0920-P1</td>\n",
       "      <td>2006</td>\n",
       "      <td>920</td>\n",
       "      <td>Executive</td>\n",
       "      <td>President Ali Abdullah SALEH, who had been in ...</td>\n",
       "      <td>no</td>\n",
       "      <td>NaN</td>\n",
       "      <td>...</td>\n",
       "      <td>NaN</td>\n",
       "      <td>NaN</td>\n",
       "      <td>NaN</td>\n",
       "      <td>NaN</td>\n",
       "      <td>True</td>\n",
       "      <td>True</td>\n",
       "      <td>Yemen</td>\n",
       "      <td>679.0</td>\n",
       "      <td>0.328</td>\n",
       "      <td>True</td>\n",
       "    </tr>\n",
       "    <tr>\n",
       "      <th>1435</th>\n",
       "      <td>UKR</td>\n",
       "      <td>369</td>\n",
       "      <td>Ukraine</td>\n",
       "      <td>369-1991-1201-P1</td>\n",
       "      <td>1991</td>\n",
       "      <td>1201</td>\n",
       "      <td>Executive</td>\n",
       "      <td>NaN</td>\n",
       "      <td>yes</td>\n",
       "      <td>Ukraine did not declare independence until Aug...</td>\n",
       "      <td>...</td>\n",
       "      <td>NaN</td>\n",
       "      <td>NaN</td>\n",
       "      <td>NaN</td>\n",
       "      <td>NaN</td>\n",
       "      <td>True</td>\n",
       "      <td>True</td>\n",
       "      <td>Ukraine</td>\n",
       "      <td>369.0</td>\n",
       "      <td>0.373</td>\n",
       "      <td>True</td>\n",
       "    </tr>\n",
       "    <tr>\n",
       "      <th>1437</th>\n",
       "      <td>UZB</td>\n",
       "      <td>704</td>\n",
       "      <td>Uzbekistan</td>\n",
       "      <td>704-1991-1229-P1</td>\n",
       "      <td>1991</td>\n",
       "      <td>1229</td>\n",
       "      <td>Executive</td>\n",
       "      <td>NaN</td>\n",
       "      <td>no</td>\n",
       "      <td>NaN</td>\n",
       "      <td>...</td>\n",
       "      <td>NaN</td>\n",
       "      <td>NaN</td>\n",
       "      <td>NaN</td>\n",
       "      <td>NaN</td>\n",
       "      <td>True</td>\n",
       "      <td>True</td>\n",
       "      <td>Uzbekistan</td>\n",
       "      <td>704.0</td>\n",
       "      <td>0.219</td>\n",
       "      <td>True</td>\n",
       "    </tr>\n",
       "    <tr>\n",
       "      <th>1439</th>\n",
       "      <td>ARM</td>\n",
       "      <td>371</td>\n",
       "      <td>Armenia</td>\n",
       "      <td>371-1991-1016-P1</td>\n",
       "      <td>1991</td>\n",
       "      <td>1016</td>\n",
       "      <td>Executive</td>\n",
       "      <td>NaN</td>\n",
       "      <td>yes</td>\n",
       "      <td>NaN</td>\n",
       "      <td>...</td>\n",
       "      <td>NaN</td>\n",
       "      <td>NaN</td>\n",
       "      <td>NaN</td>\n",
       "      <td>NaN</td>\n",
       "      <td>True</td>\n",
       "      <td>True</td>\n",
       "      <td>Armenia</td>\n",
       "      <td>371.0</td>\n",
       "      <td>0.581</td>\n",
       "      <td>True</td>\n",
       "    </tr>\n",
       "    <tr>\n",
       "      <th>1440</th>\n",
       "      <td>BEN</td>\n",
       "      <td>434</td>\n",
       "      <td>Benin</td>\n",
       "      <td>434-1960-1211-L1</td>\n",
       "      <td>1960</td>\n",
       "      <td>1211</td>\n",
       "      <td>Legislative/Parliamentary</td>\n",
       "      <td>NaN</td>\n",
       "      <td>no</td>\n",
       "      <td>NaN</td>\n",
       "      <td>...</td>\n",
       "      <td>NaN</td>\n",
       "      <td>NaN</td>\n",
       "      <td>NaN</td>\n",
       "      <td>NaN</td>\n",
       "      <td>True</td>\n",
       "      <td>True</td>\n",
       "      <td>Benin</td>\n",
       "      <td>434.0</td>\n",
       "      <td>0.162</td>\n",
       "      <td>True</td>\n",
       "    </tr>\n",
       "    <tr>\n",
       "      <th>1441</th>\n",
       "      <td>BEN</td>\n",
       "      <td>434</td>\n",
       "      <td>Benin</td>\n",
       "      <td>434-1960-1211-P1</td>\n",
       "      <td>1960</td>\n",
       "      <td>1211</td>\n",
       "      <td>Executive</td>\n",
       "      <td>This was the first presidential election since...</td>\n",
       "      <td>yes</td>\n",
       "      <td>Benin (then called Dahomey) became independent...</td>\n",
       "      <td>...</td>\n",
       "      <td>NaN</td>\n",
       "      <td>NaN</td>\n",
       "      <td>NaN</td>\n",
       "      <td>NaN</td>\n",
       "      <td>True</td>\n",
       "      <td>True</td>\n",
       "      <td>Benin</td>\n",
       "      <td>434.0</td>\n",
       "      <td>0.162</td>\n",
       "      <td>True</td>\n",
       "    </tr>\n",
       "    <tr>\n",
       "      <th>1444</th>\n",
       "      <td>TAJ</td>\n",
       "      <td>702</td>\n",
       "      <td>Tajikistan</td>\n",
       "      <td>702-1991-1124-P1</td>\n",
       "      <td>1991</td>\n",
       "      <td>1124</td>\n",
       "      <td>Executive</td>\n",
       "      <td>NaN</td>\n",
       "      <td>no</td>\n",
       "      <td>NaN</td>\n",
       "      <td>...</td>\n",
       "      <td>NaN</td>\n",
       "      <td>NaN</td>\n",
       "      <td>NaN</td>\n",
       "      <td>NaN</td>\n",
       "      <td>True</td>\n",
       "      <td>True</td>\n",
       "      <td>Tajikistan</td>\n",
       "      <td>702.0</td>\n",
       "      <td>0.271</td>\n",
       "      <td>True</td>\n",
       "    </tr>\n",
       "  </tbody>\n",
       "</table>\n",
       "<p>9 rows × 153 columns</p>\n",
       "</div>"
      ],
      "text/plain": [
       "     stateid ccode   country_x        electionid  year  mmdd  \\\n",
       "621      CRO   344     Croatia  344-1992-0802-P1  1992   802   \n",
       "1156     YEM   678       Yemen  678-1999-0923-P1  1999   923   \n",
       "1157     YEM   678       Yemen  678-2006-0920-P1  2006   920   \n",
       "1435     UKR   369     Ukraine  369-1991-1201-P1  1991  1201   \n",
       "1437     UZB   704  Uzbekistan  704-1991-1229-P1  1991  1229   \n",
       "1439     ARM   371     Armenia  371-1991-1016-P1  1991  1016   \n",
       "1440     BEN   434       Benin  434-1960-1211-L1  1960  1211   \n",
       "1441     BEN   434       Benin  434-1960-1211-P1  1960  1211   \n",
       "1444     TAJ   702  Tajikistan  702-1991-1124-P1  1991  1124   \n",
       "\n",
       "                          types  \\\n",
       "621                   Executive   \n",
       "1156                  Executive   \n",
       "1157                  Executive   \n",
       "1435                  Executive   \n",
       "1437                  Executive   \n",
       "1439                  Executive   \n",
       "1440  Legislative/Parliamentary   \n",
       "1441                  Executive   \n",
       "1444                  Executive   \n",
       "\n",
       "                                                  notes nelda1  \\\n",
       "621                                                 NaN    yes   \n",
       "1156                                                NaN     no   \n",
       "1157  President Ali Abdullah SALEH, who had been in ...     no   \n",
       "1435                                                NaN    yes   \n",
       "1437                                                NaN     no   \n",
       "1439                                                NaN    yes   \n",
       "1440                                                NaN     no   \n",
       "1441  This was the first presidential election since...    yes   \n",
       "1444                                                NaN     no   \n",
       "\n",
       "                                            nelda1notes  ... state reltrade  \\\n",
       "621    These were the first elections post-independence  ...   NaN      NaN   \n",
       "1156  While Parliament routinely selected the presid...  ...   NaN      NaN   \n",
       "1157                                                NaN  ...   NaN      NaN   \n",
       "1435  Ukraine did not declare independence until Aug...  ...   NaN      NaN   \n",
       "1437                                                NaN  ...   NaN      NaN   \n",
       "1439                                                NaN  ...   NaN      NaN   \n",
       "1440                                                NaN  ...   NaN      NaN   \n",
       "1441  Benin (then called Dahomey) became independent...  ...   NaN      NaN   \n",
       "1444                                                NaN  ...   NaN      NaN   \n",
       "\n",
       "     reltradelog sum Competitive National Executive country_name COWcode  \\\n",
       "621          NaN NaN        True               True      Croatia   344.0   \n",
       "1156         NaN NaN        True               True        Yemen   679.0   \n",
       "1157         NaN NaN        True               True        Yemen   679.0   \n",
       "1435         NaN NaN        True               True      Ukraine   369.0   \n",
       "1437         NaN NaN        True               True   Uzbekistan   704.0   \n",
       "1439         NaN NaN        True               True      Armenia   371.0   \n",
       "1440         NaN NaN        True               True        Benin   434.0   \n",
       "1441         NaN NaN        True               True        Benin   434.0   \n",
       "1444         NaN NaN        True               True   Tajikistan   702.0   \n",
       "\n",
       "     v2x_polyarchy Electoral Autocracy  \n",
       "621          0.246                True  \n",
       "1156         0.290                True  \n",
       "1157         0.328                True  \n",
       "1435         0.373                True  \n",
       "1437         0.219                True  \n",
       "1439         0.581                True  \n",
       "1440         0.162                True  \n",
       "1441         0.162                True  \n",
       "1444         0.271                True  \n",
       "\n",
       "[9 rows x 153 columns]"
      ]
     },
     "execution_count": 214,
     "metadata": {},
     "output_type": "execute_result"
    }
   ],
   "source": [
    "retesting[retesting['state'].isna()]"
   ]
  },
  {
   "cell_type": "code",
   "execution_count": 215,
   "metadata": {},
   "outputs": [],
   "source": [
    "yemen = cow[cow['RelCon'] == 679]\n",
    "def fixtesting(row):\n",
    "    if row['ccode'] == 678 and row['year'] >= 1991:\n",
    "        return np.array(yemen[(yemen['year'] == row['year'])][['RelCon', 'state', 'reltrade', 'reltradelog', 'sum']].iloc[0])\n",
    "    elif row['ccode'] == 344 and row['year'] == 1992:\n",
    "        return np.array([344, 'croatia', 0, 0, float(0)])\n",
    "    elif row['ccode'] == 704 and row['year'] == 1991:\n",
    "        return np.array([704, 'uzbekistan', 0, 0, float(0)])\n",
    "    elif row['ccode'] == 434 and row['year'] == 1960:\n",
    "        return np.array([434, 'benin', 0.006661, 0.006639, float(0)])\n",
    "    elif row['ccode'] == 702 and row['year'] == 1991:\n",
    "        return np.array([702, 'tajikistan', 0, 0, float(0)])\n",
    "    elif row['ccode'] == 371 and row['year'] == 1991:\n",
    "        return np.array([371, 'armenia', 0, 0, float(0)])\n",
    "    elif row['ccode'] == 369 and row['year'] == 1991:\n",
    "        return np.array([369, 'ukraine', 0, 0, float(0)])\n",
    "    else:\n",
    "        return [row['RelCon'], row['state'], row['reltrade'], row['reltradelog'], row['sum']]\n",
    "temp10 = retesting.apply(fixtesting, axis=1, result_type='expand')\n",
    "retesting['RelCon'] = temp10[0]\n",
    "retesting['state'] = temp10[1]\n",
    "retesting['reltrade'] = temp10[2]\n",
    "retesting['reltradelog'] = temp10[3]\n",
    "retesting['sum'] = temp10[4]"
   ]
  },
  {
   "cell_type": "markdown",
   "metadata": {},
   "source": [
    "I rename some columns for clarity and replace 'yes' and 'no' with 1 and 0."
   ]
  },
  {
   "cell_type": "code",
   "execution_count": 216,
   "metadata": {},
   "outputs": [],
   "source": [
    "retesting['ReliablePolls'] = retesting['nelda25'].apply(numberize)\n",
    "retesting['PollsGood'] = retesting['nelda26'].apply(numberize)\n",
    "retesting['IncumbentRan'] = retesting['nelda21'].apply(numberize)\n",
    "retesting['ChosenSuccessor'] = retesting['nelda22'].apply(numberize)\n",
    "retesting['SuccessorWin'] = retesting['nelda23'].apply(numberize)\n",
    "retesting['IncPartyLost'] = retesting['nelda24'].apply(numberize)\n",
    "retesting['GoodEcon'] = retesting['nelda17'].apply(numberize)\n",
    "retesting['OppBoycott'] = retesting['nelda14'].apply(numberize)\n",
    "retesting['IncRepl'] = retesting['nelda39'].apply(numberize)\n",
    "retesting['PostProtest'] = retesting['nelda29'].apply(numberize)\n",
    "retesting['PostProtestFraud'] = retesting['nelda30'].apply(numberize)\n",
    "retesting['OppGain'] = retesting['nelda27'].apply(numberize)\n",
    "retesting['EconCrisis'] = retesting['nelda18'].apply(numberize)\n",
    "retesting['Transitional'] = retesting['nelda10'].apply(numberize)\n",
    "retesting['Leverage'] = retesting['nelda57'].apply(numberize)\n",
    "retesting['Leverage2'] = retesting['nelda58'].apply(numberize)\n",
    "retesting['Harrass'] = retesting['nelda15'].apply(numberize)"
   ]
  },
  {
   "cell_type": "markdown",
   "metadata": {},
   "source": [
    "I select only elections where the incumbent or a chosen successor was on the ballot representing the regime."
   ]
  },
  {
   "cell_type": "code",
   "execution_count": 217,
   "metadata": {},
   "outputs": [],
   "source": [
    "retesting['Incumbent or Successor'] = (retesting['IncumbentRan'] == 1) | (retesting['ChosenSuccessor'] == 1)\n",
    "retesting = retesting[retesting['Incumbent or Successor']]"
   ]
  },
  {
   "cell_type": "markdown",
   "metadata": {},
   "source": [
    "I define opposition victories as elections where the incumbent party lost or a chosen successor lost."
   ]
  },
  {
   "cell_type": "code",
   "execution_count": 218,
   "metadata": {},
   "outputs": [],
   "source": [
    "retesting['oppwin'] = ((retesting['ChosenSuccessor'] == 1) & (retesting['SuccessorWin'] == 0)) | (retesting['IncPartyLost'] == 1)\n",
    "retesting['oppwin'] = retesting['oppwin'].apply(booltonum)"
   ]
  },
  {
   "cell_type": "code",
   "execution_count": 219,
   "metadata": {},
   "outputs": [],
   "source": [
    "retesting['leverage'] = retesting['Leverage'] | retesting['Leverage2']\n",
    "retesting['leverage'] = retesting['leverage'].apply(booltonum)\n",
    "retesting['anarchy'] = retesting['anarchy'].apply(booltonum)\n",
    "retesting['transition'] = retesting['transition'].apply(booltonum)\n",
    "retesting['occupation'] = retesting['occupation'].apply(booltonum)\n",
    "retesting['droptransition'] = retesting['droptransition'].apply(booltonum)\n",
    "retesting.rename({'sum': 'IOScore'}, axis=1, inplace=True)\n",
    "retesting['PostCW'] = retesting['year'] >= 1990\n",
    "retesting['PostCW'] = retesting['PostCW'].apply(booltonum)\n",
    "retesting['client'] = retesting['client'].apply(booltonum)"
   ]
  },
  {
   "cell_type": "markdown",
   "metadata": {},
   "source": [
    "I define bad polling as elections where reliable polling was avaliable and the government did poorly."
   ]
  },
  {
   "cell_type": "code",
   "execution_count": 220,
   "metadata": {},
   "outputs": [],
   "source": [
    "retesting['PollsBad'] = (retesting['ReliablePolls'] & ~retesting['PollsGood'])"
   ]
  },
  {
   "cell_type": "markdown",
   "metadata": {},
   "source": [
    "I define opposition challenges as elections where the opposition either won, or organized major post-election protests alleging fraud."
   ]
  },
  {
   "cell_type": "code",
   "execution_count": 221,
   "metadata": {},
   "outputs": [],
   "source": [
    "retesting['oppchal'] = (retesting['oppwin'] == 1) | ((retesting['PostProtest'] == 1) & (retesting['PostProtestFraud']) == 1)"
   ]
  },
  {
   "cell_type": "markdown",
   "metadata": {},
   "source": [
    "I use Nelda19 to code for states that recieve significant foreign economic aid."
   ]
  },
  {
   "cell_type": "code",
   "execution_count": 222,
   "metadata": {},
   "outputs": [],
   "source": [
    "retesting['Rentier'] = retesting['nelda19'].apply(numberize)"
   ]
  },
  {
   "cell_type": "markdown",
   "metadata": {},
   "source": [
    "I create my dataset"
   ]
  },
  {
   "cell_type": "code",
   "execution_count": 223,
   "metadata": {},
   "outputs": [],
   "source": [
    "X = retesting[['country_x', 'oppchal', 'OppBoycott', 'year', 'client', 'PollsBad', 'PollsGood', 'IncumbentRan', 'GoodEcon', 'polcomp', 'adjexconst', 'IOScore', 'reltradelog', 'anarchy', 'transition', 'occupation', 'PostCW', 'oppwin', 'droptransition', 'Transitional', 'OppGain', 'EconCrisis', 'exconst', 'tenure', 'leverage', 'Harrass', 'Rentier', 'v2x_polyarchy']]"
   ]
  },
  {
   "cell_type": "markdown",
   "metadata": {},
   "source": [
    "I drop elections held under anarchy, foreign occupation and transitional periods with no pre-transition averages (see my comments on the Polity V data)."
   ]
  },
  {
   "cell_type": "code",
   "execution_count": 224,
   "metadata": {},
   "outputs": [],
   "source": [
    "X = X[~(X['anarchy'] == 1)]\n",
    "X = X[~(X['occupation'] == 1)]\n",
    "X = X[~(X['droptransition'] == 1)]\n",
    "X.drop(['anarchy', 'occupation', 'droptransition'], axis=1, inplace=True)"
   ]
  },
  {
   "cell_type": "markdown",
   "metadata": {},
   "source": [
    "I make tenure into a float."
   ]
  },
  {
   "cell_type": "code",
   "execution_count": 225,
   "metadata": {},
   "outputs": [],
   "source": [
    "def successorterm(row):\n",
    "    return float(row['tenure'])\n",
    "X['tenure'] = X.apply(successorterm, axis=1)"
   ]
  },
  {
   "cell_type": "markdown",
   "metadata": {},
   "source": [
    "I define a long leader tenure as a tenure longer than 12 year."
   ]
  },
  {
   "cell_type": "code",
   "execution_count": 226,
   "metadata": {},
   "outputs": [],
   "source": [
    "X['longten'] = X['tenure'] > 12\n",
    "X['longten'] = X['longten'].apply(booltonum)"
   ]
  },
  {
   "cell_type": "markdown",
   "metadata": {},
   "source": [
    "I group military client states and economic rentier states together under one variable."
   ]
  },
  {
   "cell_type": "code",
   "execution_count": 227,
   "metadata": {},
   "outputs": [],
   "source": [
    "X['oppchal'] = X['oppchal'].apply(booltonum)\n",
    "X['clirent'] = X['client'] | X['Rentier']\n",
    "X['clirent'] = X['clirent'].apply(booltonum)"
   ]
  },
  {
   "cell_type": "markdown",
   "metadata": {},
   "source": [
    "In total, I have 497 entries, each representing a competive authoritarian election for head of state where the incumbent regime had a preferred candidate on the ballot."
   ]
  },
  {
   "cell_type": "code",
   "execution_count": 228,
   "metadata": {},
   "outputs": [
    {
     "data": {
      "text/plain": [
       "(497, 27)"
      ]
     },
     "execution_count": 228,
     "metadata": {},
     "output_type": "execute_result"
    }
   ],
   "source": [
    "X.shape"
   ]
  },
  {
   "cell_type": "markdown",
   "metadata": {},
   "source": [
    "I rename a few columns for clarity:"
   ]
  },
  {
   "cell_type": "code",
   "execution_count": 229,
   "metadata": {},
   "outputs": [],
   "source": [
    "X.rename({\"oppwin\": \"Opposition Win\", \"oppchal\": \"Opposition Challenge\", \"clirent\": \"Major Aid Recipient\"}, axis=1, inplace=True)"
   ]
  },
  {
   "cell_type": "code",
   "execution_count": 230,
   "metadata": {},
   "outputs": [
    {
     "data": {
      "text/plain": [
       "Index(['country_x', 'Opposition Challenge', 'OppBoycott', 'year', 'client',\n",
       "       'PollsBad', 'PollsGood', 'IncumbentRan', 'GoodEcon', 'polcomp',\n",
       "       'adjexconst', 'IOScore', 'reltradelog', 'transition', 'PostCW',\n",
       "       'Opposition Win', 'Transitional', 'OppGain', 'EconCrisis', 'exconst',\n",
       "       'tenure', 'leverage', 'Harrass', 'Rentier', 'v2x_polyarchy', 'longten',\n",
       "       'Major Aid Recipient'],\n",
       "      dtype='object')"
      ]
     },
     "execution_count": 230,
     "metadata": {},
     "output_type": "execute_result"
    }
   ],
   "source": [
    "X.columns"
   ]
  },
  {
   "cell_type": "markdown",
   "metadata": {},
   "source": [
    "I output my final, cleaned data"
   ]
  },
  {
   "cell_type": "code",
   "execution_count": 231,
   "metadata": {},
   "outputs": [],
   "source": [
    "X.to_csv('cleanedout.csv')"
   ]
  },
  {
   "cell_type": "code",
   "execution_count": 200,
   "metadata": {},
   "outputs": [
    {
     "data": {
      "text/plain": [
       "Text(0, 0.5, 'Number of Elections')"
      ]
     },
     "execution_count": 200,
     "metadata": {},
     "output_type": "execute_result"
    },
    {
     "data": {
      "image/png": "[encoded data removed]",
      "text/plain": [
       "<Figure size 432x288 with 1 Axes>"
      ]
     },
     "metadata": {
      "needs_background": "light"
     },
     "output_type": "display_data"
    }
   ],
   "source": [
    "X.pivot(columns=\"OppBoycott\", values=\"v2x_polyarchy\").plot.hist()\n",
    "plt.xlabel(\"Electoral Democracy\")\n",
    "plt.ylabel(\"Number of Elections\")"
   ]
  },
  {
   "cell_type": "code",
   "execution_count": 2,
   "metadata": {},
   "outputs": [],
   "source": [
    "cheat = pd.read_csv('replication_data.csv')"
   ]
  },
  {
   "cell_type": "code",
   "execution_count": 9,
   "metadata": {},
   "outputs": [
    {
     "data": {
      "text/plain": [
       "Malaysia              13\n",
       "Turkey                13\n",
       "Albania               13\n",
       "Thailand              12\n",
       "Philippines           11\n",
       "Singapore             11\n",
       "Colombia              10\n",
       "South Africa          10\n",
       "Dominican Republic    10\n",
       "Guatemala              9\n",
       "Name: country_x, dtype: int64"
      ]
     },
     "execution_count": 9,
     "metadata": {},
     "output_type": "execute_result"
    }
   ],
   "source": [
    "cheat['country_x'].value_counts().head(10)"
   ]
  },
  {
   "cell_type": "code",
   "execution_count": null,
   "metadata": {},
   "outputs": [],
   "source": []
  }
 ],
 "metadata": {
  "kernelspec": {
   "display_name": "Python 3",
   "language": "python",
   "name": "python3"
  },
  "language_info": {
   "codemirror_mode": {
    "name": "ipython",
    "version": 3
   },
   "file_extension": ".py",
   "mimetype": "text/x-python",
   "name": "python",
   "nbconvert_exporter": "python",
   "pygments_lexer": "ipython3",
   "version": "3.7.3"
  }
 },
 "nbformat": 4,
 "nbformat_minor": 2
}
